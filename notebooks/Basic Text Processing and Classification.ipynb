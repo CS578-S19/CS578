{
 "cells": [
  {
   "cell_type": "code",
   "execution_count": 52,
   "metadata": {},
   "outputs": [],
   "source": [
    "import numpy as np\n",
    "\n",
    "from sklearn.datasets import fetch_20newsgroups\n",
    "\n",
    "from pprint import pprint"
   ]
  },
  {
   "cell_type": "code",
   "execution_count": 64,
   "metadata": {},
   "outputs": [],
   "source": [
    "twenty_news=fetch_20newsgroups()"
   ]
  },
  {
   "cell_type": "code",
   "execution_count": 65,
   "metadata": {},
   "outputs": [
    {
     "name": "stdout",
     "output_type": "stream",
     "text": [
      ".. _20newsgroups_dataset:\n",
      "\n",
      "The 20 newsgroups text dataset\n",
      "------------------------------\n",
      "\n",
      "The 20 newsgroups dataset comprises around 18000 newsgroups posts on\n",
      "20 topics split in two subsets: one for training (or development)\n",
      "and the other one for testing (or for performance evaluation). The split\n",
      "between the train and test set is based upon a messages posted before\n",
      "and after a specific date.\n",
      "\n",
      "This module contains two loaders. The first one,\n",
      ":func:`sklearn.datasets.fetch_20newsgroups`,\n",
      "returns a list of the raw texts that can be fed to text feature\n",
      "extractors such as :class:`sklearn.feature_extraction.text.CountVectorizer`\n",
      "with custom parameters so as to extract feature vectors.\n",
      "The second one, :func:`sklearn.datasets.fetch_20newsgroups_vectorized`,\n",
      "returns ready-to-use features, i.e., it is not necessary to use a feature\n",
      "extractor.\n",
      "\n",
      "**Data Set Characteristics:**\n",
      "\n",
      "    =================   ==========\n",
      "    Classes                     20\n",
      "    Samples total            18846\n",
      "    Dimensionality               1\n",
      "    Features                  text\n",
      "    =================   ==========\n",
      "\n",
      "Usage\n",
      "~~~~~\n",
      "\n",
      "The :func:`sklearn.datasets.fetch_20newsgroups` function is a data\n",
      "fetching / caching functions that downloads the data archive from\n",
      "the original `20 newsgroups website`_, extracts the archive contents\n",
      "in the ``~/scikit_learn_data/20news_home`` folder and calls the\n",
      ":func:`sklearn.datasets.load_files` on either the training or\n",
      "testing set folder, or both of them::\n",
      "\n",
      "  >>> from sklearn.datasets import fetch_20newsgroups\n",
      "  >>> newsgroups_train = fetch_20newsgroups(subset='train')\n",
      "\n",
      "  >>> from pprint import pprint\n",
      "  >>> pprint(list(newsgroups_train.target_names))\n",
      "  ['alt.atheism',\n",
      "   'comp.graphics',\n",
      "   'comp.os.ms-windows.misc',\n",
      "   'comp.sys.ibm.pc.hardware',\n",
      "   'comp.sys.mac.hardware',\n",
      "   'comp.windows.x',\n",
      "   'misc.forsale',\n",
      "   'rec.autos',\n",
      "   'rec.motorcycles',\n",
      "   'rec.sport.baseball',\n",
      "   'rec.sport.hockey',\n",
      "   'sci.crypt',\n",
      "   'sci.electronics',\n",
      "   'sci.med',\n",
      "   'sci.space',\n",
      "   'soc.religion.christian',\n",
      "   'talk.politics.guns',\n",
      "   'talk.politics.mideast',\n",
      "   'talk.politics.misc',\n",
      "   'talk.religion.misc']\n",
      "\n",
      "The real data lies in the ``filenames`` and ``target`` attributes. The target\n",
      "attribute is the integer index of the category::\n",
      "\n",
      "  >>> newsgroups_train.filenames.shape\n",
      "  (11314,)\n",
      "  >>> newsgroups_train.target.shape\n",
      "  (11314,)\n",
      "  >>> newsgroups_train.target[:10]\n",
      "  array([ 7,  4,  4,  1, 14, 16, 13,  3,  2,  4])\n",
      "\n",
      "It is possible to load only a sub-selection of the categories by passing the\n",
      "list of the categories to load to the\n",
      ":func:`sklearn.datasets.fetch_20newsgroups` function::\n",
      "\n",
      "  >>> cats = ['alt.atheism', 'sci.space']\n",
      "  >>> newsgroups_train = fetch_20newsgroups(subset='train', categories=cats)\n",
      "\n",
      "  >>> list(newsgroups_train.target_names)\n",
      "  ['alt.atheism', 'sci.space']\n",
      "  >>> newsgroups_train.filenames.shape\n",
      "  (1073,)\n",
      "  >>> newsgroups_train.target.shape\n",
      "  (1073,)\n",
      "  >>> newsgroups_train.target[:10]\n",
      "  array([0, 1, 1, 1, 0, 1, 1, 0, 0, 0])\n",
      "\n",
      "Converting text to vectors\n",
      "~~~~~~~~~~~~~~~~~~~~~~~~~~\n",
      "\n",
      "In order to feed predictive or clustering models with the text data,\n",
      "one first need to turn the text into vectors of numerical values suitable\n",
      "for statistical analysis. This can be achieved with the utilities of the\n",
      "``sklearn.feature_extraction.text`` as demonstrated in the following\n",
      "example that extract `TF-IDF`_ vectors of unigram tokens\n",
      "from a subset of 20news::\n",
      "\n",
      "  >>> from sklearn.feature_extraction.text import TfidfVectorizer\n",
      "  >>> categories = ['alt.atheism', 'talk.religion.misc',\n",
      "  ...               'comp.graphics', 'sci.space']\n",
      "  >>> newsgroups_train = fetch_20newsgroups(subset='train',\n",
      "  ...                                       categories=categories)\n",
      "  >>> vectorizer = TfidfVectorizer()\n",
      "  >>> vectors = vectorizer.fit_transform(newsgroups_train.data)\n",
      "  >>> vectors.shape\n",
      "  (2034, 34118)\n",
      "\n",
      "The extracted TF-IDF vectors are very sparse, with an average of 159 non-zero\n",
      "components by sample in a more than 30000-dimensional space\n",
      "(less than .5% non-zero features)::\n",
      "\n",
      "  >>> vectors.nnz / float(vectors.shape[0])       # doctest: +ELLIPSIS\n",
      "  159.01327...\n",
      "\n",
      ":func:`sklearn.datasets.fetch_20newsgroups_vectorized` is a function which \n",
      "returns ready-to-use token counts features instead of file names.\n",
      "\n",
      ".. _`20 newsgroups website`: http://people.csail.mit.edu/jrennie/20Newsgroups/\n",
      ".. _`TF-IDF`: https://en.wikipedia.org/wiki/Tf-idf\n",
      "\n",
      "\n",
      "Filtering text for more realistic training\n",
      "~~~~~~~~~~~~~~~~~~~~~~~~~~~~~~~~~~~~~~~~~~\n",
      "\n",
      "It is easy for a classifier to overfit on particular things that appear in the\n",
      "20 Newsgroups data, such as newsgroup headers. Many classifiers achieve very\n",
      "high F-scores, but their results would not generalize to other documents that\n",
      "aren't from this window of time.\n",
      "\n",
      "For example, let's look at the results of a multinomial Naive Bayes classifier,\n",
      "which is fast to train and achieves a decent F-score::\n",
      "\n",
      "  >>> from sklearn.naive_bayes import MultinomialNB\n",
      "  >>> from sklearn import metrics\n",
      "  >>> newsgroups_test = fetch_20newsgroups(subset='test',\n",
      "  ...                                      categories=categories)\n",
      "  >>> vectors_test = vectorizer.transform(newsgroups_test.data)\n",
      "  >>> clf = MultinomialNB(alpha=.01)\n",
      "  >>> clf.fit(vectors, newsgroups_train.target)\n",
      "  MultinomialNB(alpha=0.01, class_prior=None, fit_prior=True)\n",
      "\n",
      "  >>> pred = clf.predict(vectors_test)\n",
      "  >>> metrics.f1_score(newsgroups_test.target, pred, average='macro')  # doctest: +ELLIPSIS\n",
      "  0.88213...\n",
      "\n",
      "(The example :ref:`sphx_glr_auto_examples_text_plot_document_classification_20newsgroups.py` shuffles\n",
      "the training and test data, instead of segmenting by time, and in that case\n",
      "multinomial Naive Bayes gets a much higher F-score of 0.88. Are you suspicious\n",
      "yet of what's going on inside this classifier?)\n",
      "\n",
      "Let's take a look at what the most informative features are:\n",
      "\n",
      "  >>> import numpy as np\n",
      "  >>> def show_top10(classifier, vectorizer, categories):\n",
      "  ...     feature_names = np.asarray(vectorizer.get_feature_names())\n",
      "  ...     for i, category in enumerate(categories):\n",
      "  ...         top10 = np.argsort(classifier.coef_[i])[-10:]\n",
      "  ...         print(\"%s: %s\" % (category, \" \".join(feature_names[top10])))\n",
      "  ...\n",
      "  >>> show_top10(clf, vectorizer, newsgroups_train.target_names)\n",
      "  alt.atheism: edu it and in you that is of to the\n",
      "  comp.graphics: edu in graphics it is for and of to the\n",
      "  sci.space: edu it that is in and space to of the\n",
      "  talk.religion.misc: not it you in is that and to of the\n",
      "\n",
      "\n",
      "You can now see many things that these features have overfit to:\n",
      "\n",
      "- Almost every group is distinguished by whether headers such as\n",
      "  ``NNTP-Posting-Host:`` and ``Distribution:`` appear more or less often.\n",
      "- Another significant feature involves whether the sender is affiliated with\n",
      "  a university, as indicated either by their headers or their signature.\n",
      "- The word \"article\" is a significant feature, based on how often people quote\n",
      "  previous posts like this: \"In article [article ID], [name] <[e-mail address]>\n",
      "  wrote:\"\n",
      "- Other features match the names and e-mail addresses of particular people who\n",
      "  were posting at the time.\n",
      "\n",
      "With such an abundance of clues that distinguish newsgroups, the classifiers\n",
      "barely have to identify topics from text at all, and they all perform at the\n",
      "same high level.\n",
      "\n",
      "For this reason, the functions that load 20 Newsgroups data provide a\n",
      "parameter called **remove**, telling it what kinds of information to strip out\n",
      "of each file. **remove** should be a tuple containing any subset of\n",
      "``('headers', 'footers', 'quotes')``, telling it to remove headers, signature\n",
      "blocks, and quotation blocks respectively.\n",
      "\n",
      "  >>> newsgroups_test = fetch_20newsgroups(subset='test',\n",
      "  ...                                      remove=('headers', 'footers', 'quotes'),\n",
      "  ...                                      categories=categories)\n",
      "  >>> vectors_test = vectorizer.transform(newsgroups_test.data)\n",
      "  >>> pred = clf.predict(vectors_test)\n",
      "  >>> metrics.f1_score(pred, newsgroups_test.target, average='macro')  # doctest: +ELLIPSIS\n",
      "  0.77310...\n",
      "\n",
      "This classifier lost over a lot of its F-score, just because we removed\n",
      "metadata that has little to do with topic classification.\n",
      "It loses even more if we also strip this metadata from the training data:\n",
      "\n",
      "  >>> newsgroups_train = fetch_20newsgroups(subset='train',\n",
      "  ...                                       remove=('headers', 'footers', 'quotes'),\n",
      "  ...                                       categories=categories)\n",
      "  >>> vectors = vectorizer.fit_transform(newsgroups_train.data)\n",
      "  >>> clf = MultinomialNB(alpha=.01)\n",
      "  >>> clf.fit(vectors, newsgroups_train.target)\n",
      "  MultinomialNB(alpha=0.01, class_prior=None, fit_prior=True)\n",
      "\n",
      "  >>> vectors_test = vectorizer.transform(newsgroups_test.data)\n",
      "  >>> pred = clf.predict(vectors_test)\n",
      "  >>> metrics.f1_score(newsgroups_test.target, pred, average='macro')  # doctest: +ELLIPSIS\n",
      "  0.76995...\n",
      "\n",
      "Some other classifiers cope better with this harder version of the task. Try\n",
      "running :ref:`sphx_glr_auto_examples_model_selection_grid_search_text_feature_extraction.py` with and without\n",
      "the ``--filter`` option to compare the results.\n",
      "\n",
      ".. topic:: Recommendation\n",
      "\n",
      "  When evaluating text classifiers on the 20 Newsgroups data, you\n",
      "  should strip newsgroup-related metadata. In scikit-learn, you can do this by\n",
      "  setting ``remove=('headers', 'footers', 'quotes')``. The F-score will be\n",
      "  lower because it is more realistic.\n",
      "\n",
      ".. topic:: Examples\n",
      "\n",
      "   * :ref:`sphx_glr_auto_examples_model_selection_grid_search_text_feature_extraction.py`\n",
      "\n",
      "   * :ref:`sphx_glr_auto_examples_text_plot_document_classification_20newsgroups.py`\n",
      "\n"
     ]
    }
   ],
   "source": [
    "print(twenty_news.DESCR)"
   ]
  },
  {
   "cell_type": "code",
   "execution_count": 4,
   "metadata": {},
   "outputs": [
    {
     "name": "stdout",
     "output_type": "stream",
     "text": [
      "['alt.atheism',\n",
      " 'comp.graphics',\n",
      " 'comp.os.ms-windows.misc',\n",
      " 'comp.sys.ibm.pc.hardware',\n",
      " 'comp.sys.mac.hardware',\n",
      " 'comp.windows.x',\n",
      " 'misc.forsale',\n",
      " 'rec.autos',\n",
      " 'rec.motorcycles',\n",
      " 'rec.sport.baseball',\n",
      " 'rec.sport.hockey',\n",
      " 'sci.crypt',\n",
      " 'sci.electronics',\n",
      " 'sci.med',\n",
      " 'sci.space',\n",
      " 'soc.religion.christian',\n",
      " 'talk.politics.guns',\n",
      " 'talk.politics.mideast',\n",
      " 'talk.politics.misc',\n",
      " 'talk.religion.misc']\n"
     ]
    }
   ],
   "source": [
    "pprint(twenty_news.target_names)"
   ]
  },
  {
   "cell_type": "code",
   "execution_count": 5,
   "metadata": {},
   "outputs": [
    {
     "data": {
      "text/plain": [
       "11314"
      ]
     },
     "execution_count": 5,
     "metadata": {},
     "output_type": "execute_result"
    }
   ],
   "source": [
    "len(twenty_news.data)"
   ]
  },
  {
   "cell_type": "code",
   "execution_count": 109,
   "metadata": {},
   "outputs": [],
   "source": [
    "twenty_news = fetch_20newsgroups(categories=['comp.os.ms-windows.misc', 'sci.space'])"
   ]
  },
  {
   "cell_type": "code",
   "execution_count": 110,
   "metadata": {},
   "outputs": [
    {
     "name": "stdout",
     "output_type": "stream",
     "text": [
      "['comp.os.ms-windows.misc', 'sci.space']\n"
     ]
    }
   ],
   "source": [
    "pprint(list(twenty_news.target_names))"
   ]
  },
  {
   "cell_type": "code",
   "execution_count": 111,
   "metadata": {},
   "outputs": [
    {
     "data": {
      "text/plain": [
       "1184"
      ]
     },
     "execution_count": 111,
     "metadata": {},
     "output_type": "execute_result"
    }
   ],
   "source": [
    "len(twenty_news.data)"
   ]
  },
  {
   "cell_type": "code",
   "execution_count": 112,
   "metadata": {},
   "outputs": [
    {
     "name": "stdout",
     "output_type": "stream",
     "text": [
      "Organization: Penn State University\n",
      "From: <DLS128@psuvm.psu.edu>\n",
      "Subject: Fall Comdex '93\n",
      "Lines: 8\n",
      "\n",
      "Does anyone out there have any info on the up and coming fall comdex '93? I was\n",
      "asked by one of my peers to get any info that might be available.  Or, could\n",
      "anyone point me in the right direction?  Any help would be appreciated.\n",
      "\n",
      "\n"
     ]
    }
   ],
   "source": [
    "print(\"\\n\".join(twenty_news.data[0].split(\"\\n\")[:10]))"
   ]
  },
  {
   "cell_type": "code",
   "execution_count": 113,
   "metadata": {},
   "outputs": [
    {
     "name": "stdout",
     "output_type": "stream",
     "text": [
      "comp.os.ms-windows.misc\n"
     ]
    }
   ],
   "source": [
    "print(twenty_news.target_names[twenty_news.target[0]])"
   ]
  },
  {
   "cell_type": "code",
   "execution_count": 114,
   "metadata": {},
   "outputs": [],
   "source": [
    "from sklearn.feature_extraction.text import CountVectorizer"
   ]
  },
  {
   "cell_type": "code",
   "execution_count": 115,
   "metadata": {},
   "outputs": [],
   "source": [
    "vect = CountVectorizer(lowercase=True, ngram_range=(1, 1), min_df=10, binary=True)"
   ]
  },
  {
   "cell_type": "code",
   "execution_count": 116,
   "metadata": {},
   "outputs": [],
   "source": [
    "X = vect.fit_transform(twenty_news.data)"
   ]
  },
  {
   "cell_type": "code",
   "execution_count": 117,
   "metadata": {},
   "outputs": [
    {
     "data": {
      "text/plain": [
       "(1184, 3038)"
      ]
     },
     "execution_count": 117,
     "metadata": {},
     "output_type": "execute_result"
    }
   ],
   "source": [
    "X.shape"
   ]
  },
  {
   "cell_type": "code",
   "execution_count": 118,
   "metadata": {},
   "outputs": [
    {
     "data": {
      "text/plain": [
       "['z5', 'z7', 'zd', 'zealand', 'zero', 'zeus', 'zip', 'zoo', 'zoology', 'zq']"
      ]
     },
     "execution_count": 118,
     "metadata": {},
     "output_type": "execute_result"
    }
   ],
   "source": [
    "vect.get_feature_names()[-10:]"
   ]
  },
  {
   "cell_type": "code",
   "execution_count": 119,
   "metadata": {},
   "outputs": [
    {
     "data": {
      "text/plain": [
       "array([2416, 2744,  821,  386, 2990, 1321,  894, 2314, 1399, 1718, 2088,\n",
       "        780, 1969,  452,  488, 1753, 2679, 1227, 2718, 1831, 1931, 1948,\n",
       "        583,  410, 2916,  706,  355, 2812, 2680, 1946, 1421,  368, 1307,\n",
       "       2688, 1990,  371,  918, 1597,  233, 1098, 2586,  971, 1180, 2805,\n",
       "       2550, 1977])"
      ]
     },
     "execution_count": 119,
     "metadata": {},
     "output_type": "execute_result"
    }
   ],
   "source": [
    "X[0].indices"
   ]
  },
  {
   "cell_type": "code",
   "execution_count": 120,
   "metadata": {},
   "outputs": [],
   "source": [
    "y = twenty_news.target\n",
    "feature_names = np.asarray(vect.get_feature_names())\n",
    "target_names = twenty_news.target_names"
   ]
  },
  {
   "cell_type": "code",
   "execution_count": 121,
   "metadata": {},
   "outputs": [
    {
     "data": {
      "text/plain": [
       "array(['services', 'training', 'dave', 'appreciated', 'would', 'help',\n",
       "       'direction', 'right', 'in', 'me', 'point', 'could', 'or',\n",
       "       'available', 'be', 'might', 'that', 'get', 'to', 'my', 'of', 'one',\n",
       "       'by', 'asked', 'was', 'coming', 'and', 'up', 'the', 'on', 'info',\n",
       "       'any', 'have', 'there', 'out', 'anyone', 'does', 'lines', '93',\n",
       "       'fall', 'subject', 'edu', 'from', 'university', 'state',\n",
       "       'organization'], dtype='<U14')"
      ]
     },
     "execution_count": 121,
     "metadata": {},
     "output_type": "execute_result"
    }
   ],
   "source": [
    "feature_names[X[0].indices]"
   ]
  },
  {
   "cell_type": "code",
   "execution_count": 122,
   "metadata": {},
   "outputs": [],
   "source": [
    "from sklearn import tree"
   ]
  },
  {
   "cell_type": "code",
   "execution_count": 123,
   "metadata": {},
   "outputs": [],
   "source": [
    "clf = tree.DecisionTreeClassifier(max_depth=4)"
   ]
  },
  {
   "cell_type": "code",
   "execution_count": 124,
   "metadata": {},
   "outputs": [
    {
     "data": {
      "text/plain": [
       "DecisionTreeClassifier(class_weight=None, criterion='gini', max_depth=4,\n",
       "            max_features=None, max_leaf_nodes=None,\n",
       "            min_impurity_decrease=0.0, min_impurity_split=None,\n",
       "            min_samples_leaf=1, min_samples_split=2,\n",
       "            min_weight_fraction_leaf=0.0, presort=False, random_state=None,\n",
       "            splitter='best')"
      ]
     },
     "execution_count": 124,
     "metadata": {},
     "output_type": "execute_result"
    }
   ],
   "source": [
    "clf.fit(X, y)"
   ]
  },
  {
   "cell_type": "code",
   "execution_count": 125,
   "metadata": {},
   "outputs": [],
   "source": [
    "import graphviz"
   ]
  },
  {
   "cell_type": "code",
   "execution_count": 126,
   "metadata": {},
   "outputs": [
    {
     "data": {
      "image/svg+xml": [
       "<?xml version=\"1.0\" encoding=\"UTF-8\" standalone=\"no\"?>\r\n",
       "<!DOCTYPE svg PUBLIC \"-//W3C//DTD SVG 1.1//EN\"\r\n",
       " \"http://www.w3.org/Graphics/SVG/1.1/DTD/svg11.dtd\">\r\n",
       "<!-- Generated by graphviz version 2.38.0 (20140413.2041)\r\n",
       " -->\r\n",
       "<!-- Title: Tree Pages: 1 -->\r\n",
       "<svg width=\"1226pt\" height=\"620pt\"\r\n",
       " viewBox=\"0.00 0.00 1226.00 620.00\" xmlns=\"http://www.w3.org/2000/svg\" xmlns:xlink=\"http://www.w3.org/1999/xlink\">\r\n",
       "<g id=\"graph0\" class=\"graph\" transform=\"scale(1 1) rotate(0) translate(4 616)\">\r\n",
       "<title>Tree</title>\r\n",
       "<polygon fill=\"white\" stroke=\"none\" points=\"-4,4 -4,-616 1222,-616 1222,4 -4,4\"/>\r\n",
       "<!-- 0 -->\r\n",
       "<g id=\"node1\" class=\"node\"><title>0</title>\r\n",
       "<path fill=\"#399de5\" fill-opacity=\"0.003922\" stroke=\"black\" d=\"M118,-302.5C118,-302.5 12,-302.5 12,-302.5 6,-302.5 0,-296.5 0,-290.5 0,-290.5 0,-231.5 0,-231.5 0,-225.5 6,-219.5 12,-219.5 12,-219.5 118,-219.5 118,-219.5 124,-219.5 130,-225.5 130,-231.5 130,-231.5 130,-290.5 130,-290.5 130,-296.5 124,-302.5 118,-302.5\"/>\r\n",
       "<text text-anchor=\"start\" x=\"20\" y=\"-287.3\" font-family=\"Helvetica,sans-Serif\" font-size=\"14.00\">windows ≤ 0.5</text>\r\n",
       "<text text-anchor=\"start\" x=\"36\" y=\"-272.3\" font-family=\"Helvetica,sans-Serif\" font-size=\"14.00\">gini = 0.5</text>\r\n",
       "<text text-anchor=\"start\" x=\"13.5\" y=\"-257.3\" font-family=\"Helvetica,sans-Serif\" font-size=\"14.00\">samples = 1184</text>\r\n",
       "<text text-anchor=\"start\" x=\"8\" y=\"-242.3\" font-family=\"Helvetica,sans-Serif\" font-size=\"14.00\">value = [591, 593]</text>\r\n",
       "<text text-anchor=\"start\" x=\"10\" y=\"-227.3\" font-family=\"Helvetica,sans-Serif\" font-size=\"14.00\">class = sci.space</text>\r\n",
       "</g>\r\n",
       "<!-- 1 -->\r\n",
       "<g id=\"node2\" class=\"node\"><title>1</title>\r\n",
       "<path fill=\"#399de5\" fill-opacity=\"0.678431\" stroke=\"black\" d=\"M337,-353.5C337,-353.5 231,-353.5 231,-353.5 225,-353.5 219,-347.5 219,-341.5 219,-341.5 219,-282.5 219,-282.5 219,-276.5 225,-270.5 231,-270.5 231,-270.5 337,-270.5 337,-270.5 343,-270.5 349,-276.5 349,-282.5 349,-282.5 349,-341.5 349,-341.5 349,-347.5 343,-353.5 337,-353.5\"/>\r\n",
       "<text text-anchor=\"start\" x=\"246.5\" y=\"-338.3\" font-family=\"Helvetica,sans-Serif\" font-size=\"14.00\">space ≤ 0.5</text>\r\n",
       "<text text-anchor=\"start\" x=\"246.5\" y=\"-323.3\" font-family=\"Helvetica,sans-Serif\" font-size=\"14.00\">gini = 0.367</text>\r\n",
       "<text text-anchor=\"start\" x=\"236.5\" y=\"-308.3\" font-family=\"Helvetica,sans-Serif\" font-size=\"14.00\">samples = 780</text>\r\n",
       "<text text-anchor=\"start\" x=\"227\" y=\"-293.3\" font-family=\"Helvetica,sans-Serif\" font-size=\"14.00\">value = [189, 591]</text>\r\n",
       "<text text-anchor=\"start\" x=\"229\" y=\"-278.3\" font-family=\"Helvetica,sans-Serif\" font-size=\"14.00\">class = sci.space</text>\r\n",
       "</g>\r\n",
       "<!-- 0&#45;&gt;1 -->\r\n",
       "<g id=\"edge1\" class=\"edge\"><title>0&#45;&gt;1</title>\r\n",
       "<path fill=\"none\" stroke=\"black\" d=\"M130.226,-276.095C154.941,-281.903 183.354,-288.581 208.922,-294.59\"/>\r\n",
       "<polygon fill=\"black\" stroke=\"black\" points=\"208.403,-298.063 218.938,-296.944 210.004,-291.249 208.403,-298.063\"/>\r\n",
       "<text text-anchor=\"middle\" x=\"197.685\" y=\"-306.408\" font-family=\"Helvetica,sans-Serif\" font-size=\"14.00\">True</text>\r\n",
       "</g>\r\n",
       "<!-- 14 -->\r\n",
       "<g id=\"node15\" class=\"node\"><title>14</title>\r\n",
       "<path fill=\"#e58139\" fill-opacity=\"0.996078\" stroke=\"black\" d=\"M390,-252.5C390,-252.5 178,-252.5 178,-252.5 172,-252.5 166,-246.5 166,-240.5 166,-240.5 166,-181.5 166,-181.5 166,-175.5 172,-169.5 178,-169.5 178,-169.5 390,-169.5 390,-169.5 396,-169.5 402,-175.5 402,-181.5 402,-181.5 402,-240.5 402,-240.5 402,-246.5 396,-252.5 390,-252.5\"/>\r\n",
       "<text text-anchor=\"start\" x=\"257\" y=\"-237.3\" font-family=\"Helvetica,sans-Serif\" font-size=\"14.00\">sci ≤ 0.5</text>\r\n",
       "<text text-anchor=\"start\" x=\"250.5\" y=\"-222.3\" font-family=\"Helvetica,sans-Serif\" font-size=\"14.00\">gini = 0.01</text>\r\n",
       "<text text-anchor=\"start\" x=\"236.5\" y=\"-207.3\" font-family=\"Helvetica,sans-Serif\" font-size=\"14.00\">samples = 404</text>\r\n",
       "<text text-anchor=\"start\" x=\"235.5\" y=\"-192.3\" font-family=\"Helvetica,sans-Serif\" font-size=\"14.00\">value = [402, 2]</text>\r\n",
       "<text text-anchor=\"start\" x=\"174\" y=\"-177.3\" font-family=\"Helvetica,sans-Serif\" font-size=\"14.00\">class = comp.os.ms&#45;windows.misc</text>\r\n",
       "</g>\r\n",
       "<!-- 0&#45;&gt;14 -->\r\n",
       "<g id=\"edge14\" class=\"edge\"><title>0&#45;&gt;14</title>\r\n",
       "<path fill=\"none\" stroke=\"black\" d=\"M130.226,-246.201C138.399,-244.318 146.975,-242.342 155.72,-240.327\"/>\r\n",
       "<polygon fill=\"black\" stroke=\"black\" points=\"156.693,-243.695 165.652,-238.039 155.121,-236.874 156.693,-243.695\"/>\r\n",
       "<text text-anchor=\"middle\" x=\"144.456\" y=\"-221.082\" font-family=\"Helvetica,sans-Serif\" font-size=\"14.00\">False</text>\r\n",
       "</g>\r\n",
       "<!-- 2 -->\r\n",
       "<g id=\"node3\" class=\"node\"><title>2</title>\r\n",
       "<path fill=\"#399de5\" fill-opacity=\"0.352941\" stroke=\"black\" d=\"M609,-452.5C609,-452.5 503,-452.5 503,-452.5 497,-452.5 491,-446.5 491,-440.5 491,-440.5 491,-381.5 491,-381.5 491,-375.5 497,-369.5 503,-369.5 503,-369.5 609,-369.5 609,-369.5 615,-369.5 621,-375.5 621,-381.5 621,-381.5 621,-440.5 621,-440.5 621,-446.5 615,-452.5 609,-452.5\"/>\r\n",
       "<text text-anchor=\"start\" x=\"523\" y=\"-437.3\" font-family=\"Helvetica,sans-Serif\" font-size=\"14.00\">nasa ≤ 0.5</text>\r\n",
       "<text text-anchor=\"start\" x=\"518.5\" y=\"-422.3\" font-family=\"Helvetica,sans-Serif\" font-size=\"14.00\">gini = 0.477</text>\r\n",
       "<text text-anchor=\"start\" x=\"508.5\" y=\"-407.3\" font-family=\"Helvetica,sans-Serif\" font-size=\"14.00\">samples = 458</text>\r\n",
       "<text text-anchor=\"start\" x=\"499\" y=\"-392.3\" font-family=\"Helvetica,sans-Serif\" font-size=\"14.00\">value = [180, 278]</text>\r\n",
       "<text text-anchor=\"start\" x=\"501\" y=\"-377.3\" font-family=\"Helvetica,sans-Serif\" font-size=\"14.00\">class = sci.space</text>\r\n",
       "</g>\r\n",
       "<!-- 1&#45;&gt;2 -->\r\n",
       "<g id=\"edge2\" class=\"edge\"><title>1&#45;&gt;2</title>\r\n",
       "<path fill=\"none\" stroke=\"black\" d=\"M349.329,-335.587C388.978,-350.125 439.954,-368.816 481.236,-383.953\"/>\r\n",
       "<polygon fill=\"black\" stroke=\"black\" points=\"480.103,-387.266 490.697,-387.422 482.513,-380.693 480.103,-387.266\"/>\r\n",
       "</g>\r\n",
       "<!-- 7 -->\r\n",
       "<g id=\"node8\" class=\"node\"><title>7</title>\r\n",
       "<path fill=\"#399de5\" fill-opacity=\"0.972549\" stroke=\"black\" d=\"M607,-351.5C607,-351.5 505,-351.5 505,-351.5 499,-351.5 493,-345.5 493,-339.5 493,-339.5 493,-280.5 493,-280.5 493,-274.5 499,-268.5 505,-268.5 505,-268.5 607,-268.5 607,-268.5 613,-268.5 619,-274.5 619,-280.5 619,-280.5 619,-339.5 619,-339.5 619,-345.5 613,-351.5 607,-351.5\"/>\r\n",
       "<text text-anchor=\"start\" x=\"525.5\" y=\"-336.3\" font-family=\"Helvetica,sans-Serif\" font-size=\"14.00\">disk ≤ 0.5</text>\r\n",
       "<text text-anchor=\"start\" x=\"518.5\" y=\"-321.3\" font-family=\"Helvetica,sans-Serif\" font-size=\"14.00\">gini = 0.054</text>\r\n",
       "<text text-anchor=\"start\" x=\"508.5\" y=\"-306.3\" font-family=\"Helvetica,sans-Serif\" font-size=\"14.00\">samples = 322</text>\r\n",
       "<text text-anchor=\"start\" x=\"507.5\" y=\"-291.3\" font-family=\"Helvetica,sans-Serif\" font-size=\"14.00\">value = [9, 313]</text>\r\n",
       "<text text-anchor=\"start\" x=\"501\" y=\"-276.3\" font-family=\"Helvetica,sans-Serif\" font-size=\"14.00\">class = sci.space</text>\r\n",
       "</g>\r\n",
       "<!-- 1&#45;&gt;7 -->\r\n",
       "<g id=\"edge7\" class=\"edge\"><title>1&#45;&gt;7</title>\r\n",
       "<path fill=\"none\" stroke=\"black\" d=\"M349.329,-311.523C389.387,-311.227 441.008,-310.844 482.512,-310.537\"/>\r\n",
       "<polygon fill=\"black\" stroke=\"black\" points=\"482.586,-314.037 492.56,-310.463 482.534,-307.037 482.586,-314.037\"/>\r\n",
       "</g>\r\n",
       "<!-- 3 -->\r\n",
       "<g id=\"node4\" class=\"node\"><title>3</title>\r\n",
       "<path fill=\"#399de5\" fill-opacity=\"0.137255\" stroke=\"black\" d=\"M881,-545.5C881,-545.5 775,-545.5 775,-545.5 769,-545.5 763,-539.5 763,-533.5 763,-533.5 763,-474.5 763,-474.5 763,-468.5 769,-462.5 775,-462.5 775,-462.5 881,-462.5 881,-462.5 887,-462.5 893,-468.5 893,-474.5 893,-474.5 893,-533.5 893,-533.5 893,-539.5 887,-545.5 881,-545.5\"/>\r\n",
       "<text text-anchor=\"start\" x=\"800.5\" y=\"-530.3\" font-family=\"Helvetica,sans-Serif\" font-size=\"14.00\">file ≤ 0.5</text>\r\n",
       "<text text-anchor=\"start\" x=\"790.5\" y=\"-515.3\" font-family=\"Helvetica,sans-Serif\" font-size=\"14.00\">gini = 0.497</text>\r\n",
       "<text text-anchor=\"start\" x=\"780.5\" y=\"-500.3\" font-family=\"Helvetica,sans-Serif\" font-size=\"14.00\">samples = 389</text>\r\n",
       "<text text-anchor=\"start\" x=\"771\" y=\"-485.3\" font-family=\"Helvetica,sans-Serif\" font-size=\"14.00\">value = [180, 209]</text>\r\n",
       "<text text-anchor=\"start\" x=\"773\" y=\"-470.3\" font-family=\"Helvetica,sans-Serif\" font-size=\"14.00\">class = sci.space</text>\r\n",
       "</g>\r\n",
       "<!-- 2&#45;&gt;3 -->\r\n",
       "<g id=\"edge3\" class=\"edge\"><title>2&#45;&gt;3</title>\r\n",
       "<path fill=\"none\" stroke=\"black\" d=\"M621.329,-433.158C660.978,-446.815 711.954,-464.373 753.236,-478.592\"/>\r\n",
       "<polygon fill=\"black\" stroke=\"black\" points=\"752.102,-481.904 762.697,-481.851 754.382,-475.285 752.102,-481.904\"/>\r\n",
       "</g>\r\n",
       "<!-- 6 -->\r\n",
       "<g id=\"node7\" class=\"node\"><title>6</title>\r\n",
       "<path fill=\"#399de5\" stroke=\"black\" d=\"M879,-444C879,-444 777,-444 777,-444 771,-444 765,-438 765,-432 765,-432 765,-388 765,-388 765,-382 771,-376 777,-376 777,-376 879,-376 879,-376 885,-376 891,-382 891,-388 891,-388 891,-432 891,-432 891,-438 885,-444 879,-444\"/>\r\n",
       "<text text-anchor=\"start\" x=\"799\" y=\"-428.8\" font-family=\"Helvetica,sans-Serif\" font-size=\"14.00\">gini = 0.0</text>\r\n",
       "<text text-anchor=\"start\" x=\"784.5\" y=\"-413.8\" font-family=\"Helvetica,sans-Serif\" font-size=\"14.00\">samples = 69</text>\r\n",
       "<text text-anchor=\"start\" x=\"783.5\" y=\"-398.8\" font-family=\"Helvetica,sans-Serif\" font-size=\"14.00\">value = [0, 69]</text>\r\n",
       "<text text-anchor=\"start\" x=\"773\" y=\"-383.8\" font-family=\"Helvetica,sans-Serif\" font-size=\"14.00\">class = sci.space</text>\r\n",
       "</g>\r\n",
       "<!-- 2&#45;&gt;6 -->\r\n",
       "<g id=\"edge6\" class=\"edge\"><title>2&#45;&gt;6</title>\r\n",
       "<path fill=\"none\" stroke=\"black\" d=\"M621.329,-410.762C661.387,-410.613 713.008,-410.422 754.512,-410.268\"/>\r\n",
       "<polygon fill=\"black\" stroke=\"black\" points=\"754.573,-413.768 764.56,-410.231 754.547,-406.768 754.573,-413.768\"/>\r\n",
       "</g>\r\n",
       "<!-- 4 -->\r\n",
       "<g id=\"node5\" class=\"node\"><title>4</title>\r\n",
       "<path fill=\"#399de5\" fill-opacity=\"0.282353\" stroke=\"black\" d=\"M1153,-612C1153,-612 1047,-612 1047,-612 1041,-612 1035,-606 1035,-600 1035,-600 1035,-556 1035,-556 1035,-550 1041,-544 1047,-544 1047,-544 1153,-544 1153,-544 1159,-544 1165,-550 1165,-556 1165,-556 1165,-600 1165,-600 1165,-606 1159,-612 1153,-612\"/>\r\n",
       "<text text-anchor=\"start\" x=\"1062.5\" y=\"-596.8\" font-family=\"Helvetica,sans-Serif\" font-size=\"14.00\">gini = 0.486</text>\r\n",
       "<text text-anchor=\"start\" x=\"1052.5\" y=\"-581.8\" font-family=\"Helvetica,sans-Serif\" font-size=\"14.00\">samples = 357</text>\r\n",
       "<text text-anchor=\"start\" x=\"1043\" y=\"-566.8\" font-family=\"Helvetica,sans-Serif\" font-size=\"14.00\">value = [149, 208]</text>\r\n",
       "<text text-anchor=\"start\" x=\"1045\" y=\"-551.8\" font-family=\"Helvetica,sans-Serif\" font-size=\"14.00\">class = sci.space</text>\r\n",
       "</g>\r\n",
       "<!-- 3&#45;&gt;4 -->\r\n",
       "<g id=\"edge4\" class=\"edge\"><title>3&#45;&gt;4</title>\r\n",
       "<path fill=\"none\" stroke=\"black\" d=\"M893.329,-521.631C932.895,-532.475 983.739,-546.41 1024.98,-557.712\"/>\r\n",
       "<polygon fill=\"black\" stroke=\"black\" points=\"1024.13,-561.108 1034.7,-560.376 1025.98,-554.357 1024.13,-561.108\"/>\r\n",
       "</g>\r\n",
       "<!-- 5 -->\r\n",
       "<g id=\"node6\" class=\"node\"><title>5</title>\r\n",
       "<path fill=\"#e58139\" fill-opacity=\"0.968627\" stroke=\"black\" d=\"M1206,-526C1206,-526 994,-526 994,-526 988,-526 982,-520 982,-514 982,-514 982,-470 982,-470 982,-464 988,-458 994,-458 994,-458 1206,-458 1206,-458 1212,-458 1218,-464 1218,-470 1218,-470 1218,-514 1218,-514 1218,-520 1212,-526 1206,-526\"/>\r\n",
       "<text text-anchor=\"start\" x=\"1062.5\" y=\"-510.8\" font-family=\"Helvetica,sans-Serif\" font-size=\"14.00\">gini = 0.061</text>\r\n",
       "<text text-anchor=\"start\" x=\"1056.5\" y=\"-495.8\" font-family=\"Helvetica,sans-Serif\" font-size=\"14.00\">samples = 32</text>\r\n",
       "<text text-anchor=\"start\" x=\"1055.5\" y=\"-480.8\" font-family=\"Helvetica,sans-Serif\" font-size=\"14.00\">value = [31, 1]</text>\r\n",
       "<text text-anchor=\"start\" x=\"990\" y=\"-465.8\" font-family=\"Helvetica,sans-Serif\" font-size=\"14.00\">class = comp.os.ms&#45;windows.misc</text>\r\n",
       "</g>\r\n",
       "<!-- 3&#45;&gt;5 -->\r\n",
       "<g id=\"edge5\" class=\"edge\"><title>3&#45;&gt;5</title>\r\n",
       "<path fill=\"none\" stroke=\"black\" d=\"M893.329,-501.141C916.945,-500.091 944.579,-498.863 971.79,-497.654\"/>\r\n",
       "<polygon fill=\"black\" stroke=\"black\" points=\"971.953,-501.15 981.787,-497.209 971.642,-494.157 971.953,-501.15\"/>\r\n",
       "</g>\r\n",
       "<!-- 8 -->\r\n",
       "<g id=\"node9\" class=\"node\"><title>8</title>\r\n",
       "<path fill=\"#399de5\" fill-opacity=\"0.988235\" stroke=\"black\" d=\"M879,-357.5C879,-357.5 777,-357.5 777,-357.5 771,-357.5 765,-351.5 765,-345.5 765,-345.5 765,-286.5 765,-286.5 765,-280.5 771,-274.5 777,-274.5 777,-274.5 879,-274.5 879,-274.5 885,-274.5 891,-280.5 891,-286.5 891,-286.5 891,-345.5 891,-345.5 891,-351.5 885,-357.5 879,-357.5\"/>\r\n",
       "<text text-anchor=\"start\" x=\"798\" y=\"-342.3\" font-family=\"Helvetica,sans-Serif\" font-size=\"14.00\">ram ≤ 0.5</text>\r\n",
       "<text text-anchor=\"start\" x=\"790.5\" y=\"-327.3\" font-family=\"Helvetica,sans-Serif\" font-size=\"14.00\">gini = 0.025</text>\r\n",
       "<text text-anchor=\"start\" x=\"780.5\" y=\"-312.3\" font-family=\"Helvetica,sans-Serif\" font-size=\"14.00\">samples = 315</text>\r\n",
       "<text text-anchor=\"start\" x=\"779.5\" y=\"-297.3\" font-family=\"Helvetica,sans-Serif\" font-size=\"14.00\">value = [4, 311]</text>\r\n",
       "<text text-anchor=\"start\" x=\"773\" y=\"-282.3\" font-family=\"Helvetica,sans-Serif\" font-size=\"14.00\">class = sci.space</text>\r\n",
       "</g>\r\n",
       "<!-- 7&#45;&gt;8 -->\r\n",
       "<g id=\"edge8\" class=\"edge\"><title>7&#45;&gt;8</title>\r\n",
       "<path fill=\"none\" stroke=\"black\" d=\"M619.282,-311.384C659.567,-312.279 712.166,-313.448 754.353,-314.386\"/>\r\n",
       "<polygon fill=\"black\" stroke=\"black\" points=\"754.488,-317.889 764.564,-314.613 754.644,-310.891 754.488,-317.889\"/>\r\n",
       "</g>\r\n",
       "<!-- 11 -->\r\n",
       "<g id=\"node12\" class=\"node\"><title>11</title>\r\n",
       "<path fill=\"#e58139\" fill-opacity=\"0.600000\" stroke=\"black\" d=\"M934,-256.5C934,-256.5 722,-256.5 722,-256.5 716,-256.5 710,-250.5 710,-244.5 710,-244.5 710,-185.5 710,-185.5 710,-179.5 716,-173.5 722,-173.5 722,-173.5 934,-173.5 934,-173.5 940,-173.5 946,-179.5 946,-185.5 946,-185.5 946,-244.5 946,-244.5 946,-250.5 940,-256.5 934,-256.5\"/>\r\n",
       "<text text-anchor=\"start\" x=\"788.5\" y=\"-241.3\" font-family=\"Helvetica,sans-Serif\" font-size=\"14.00\">bureau ≤ 0.5</text>\r\n",
       "<text text-anchor=\"start\" x=\"790.5\" y=\"-226.3\" font-family=\"Helvetica,sans-Serif\" font-size=\"14.00\">gini = 0.408</text>\r\n",
       "<text text-anchor=\"start\" x=\"788.5\" y=\"-211.3\" font-family=\"Helvetica,sans-Serif\" font-size=\"14.00\">samples = 7</text>\r\n",
       "<text text-anchor=\"start\" x=\"787.5\" y=\"-196.3\" font-family=\"Helvetica,sans-Serif\" font-size=\"14.00\">value = [5, 2]</text>\r\n",
       "<text text-anchor=\"start\" x=\"718\" y=\"-181.3\" font-family=\"Helvetica,sans-Serif\" font-size=\"14.00\">class = comp.os.ms&#45;windows.misc</text>\r\n",
       "</g>\r\n",
       "<!-- 7&#45;&gt;11 -->\r\n",
       "<g id=\"edge11\" class=\"edge\"><title>7&#45;&gt;11</title>\r\n",
       "<path fill=\"none\" stroke=\"black\" d=\"M619.282,-288.086C643.489,-279.569 672.141,-269.488 700.309,-259.577\"/>\r\n",
       "<polygon fill=\"black\" stroke=\"black\" points=\"701.564,-262.845 709.836,-256.225 699.241,-256.242 701.564,-262.845\"/>\r\n",
       "</g>\r\n",
       "<!-- 9 -->\r\n",
       "<g id=\"node10\" class=\"node\"><title>9</title>\r\n",
       "<path fill=\"#399de5\" fill-opacity=\"0.992157\" stroke=\"black\" d=\"M1151,-429C1151,-429 1049,-429 1049,-429 1043,-429 1037,-423 1037,-417 1037,-417 1037,-373 1037,-373 1037,-367 1043,-361 1049,-361 1049,-361 1151,-361 1151,-361 1157,-361 1163,-367 1163,-373 1163,-373 1163,-417 1163,-417 1163,-423 1157,-429 1151,-429\"/>\r\n",
       "<text text-anchor=\"start\" x=\"1062.5\" y=\"-413.8\" font-family=\"Helvetica,sans-Serif\" font-size=\"14.00\">gini = 0.013</text>\r\n",
       "<text text-anchor=\"start\" x=\"1052.5\" y=\"-398.8\" font-family=\"Helvetica,sans-Serif\" font-size=\"14.00\">samples = 312</text>\r\n",
       "<text text-anchor=\"start\" x=\"1051.5\" y=\"-383.8\" font-family=\"Helvetica,sans-Serif\" font-size=\"14.00\">value = [2, 310]</text>\r\n",
       "<text text-anchor=\"start\" x=\"1045\" y=\"-368.8\" font-family=\"Helvetica,sans-Serif\" font-size=\"14.00\">class = sci.space</text>\r\n",
       "</g>\r\n",
       "<!-- 8&#45;&gt;9 -->\r\n",
       "<g id=\"edge9\" class=\"edge\"><title>8&#45;&gt;9</title>\r\n",
       "<path fill=\"none\" stroke=\"black\" d=\"M891.282,-334.223C931.738,-346.06 984.611,-361.531 1026.89,-373.901\"/>\r\n",
       "<polygon fill=\"black\" stroke=\"black\" points=\"1025.98,-377.283 1036.56,-376.732 1027.95,-370.564 1025.98,-377.283\"/>\r\n",
       "</g>\r\n",
       "<!-- 10 -->\r\n",
       "<g id=\"node11\" class=\"node\"><title>10</title>\r\n",
       "<path fill=\"#e58139\" fill-opacity=\"0.498039\" stroke=\"black\" d=\"M1206,-343C1206,-343 994,-343 994,-343 988,-343 982,-337 982,-331 982,-331 982,-287 982,-287 982,-281 988,-275 994,-275 994,-275 1206,-275 1206,-275 1212,-275 1218,-281 1218,-287 1218,-287 1218,-331 1218,-331 1218,-337 1212,-343 1206,-343\"/>\r\n",
       "<text text-anchor=\"start\" x=\"1062.5\" y=\"-327.8\" font-family=\"Helvetica,sans-Serif\" font-size=\"14.00\">gini = 0.444</text>\r\n",
       "<text text-anchor=\"start\" x=\"1060.5\" y=\"-312.8\" font-family=\"Helvetica,sans-Serif\" font-size=\"14.00\">samples = 3</text>\r\n",
       "<text text-anchor=\"start\" x=\"1059.5\" y=\"-297.8\" font-family=\"Helvetica,sans-Serif\" font-size=\"14.00\">value = [2, 1]</text>\r\n",
       "<text text-anchor=\"start\" x=\"990\" y=\"-282.8\" font-family=\"Helvetica,sans-Serif\" font-size=\"14.00\">class = comp.os.ms&#45;windows.misc</text>\r\n",
       "</g>\r\n",
       "<!-- 8&#45;&gt;10 -->\r\n",
       "<g id=\"edge10\" class=\"edge\"><title>8&#45;&gt;10</title>\r\n",
       "<path fill=\"none\" stroke=\"black\" d=\"M891.282,-314.385C915.278,-313.763 943.643,-313.028 971.574,-312.304\"/>\r\n",
       "<polygon fill=\"black\" stroke=\"black\" points=\"971.93,-315.796 981.836,-312.038 971.748,-308.798 971.93,-315.796\"/>\r\n",
       "</g>\r\n",
       "<!-- 12 -->\r\n",
       "<g id=\"node13\" class=\"node\"><title>12</title>\r\n",
       "<path fill=\"#e58139\" stroke=\"black\" d=\"M1206,-253C1206,-253 994,-253 994,-253 988,-253 982,-247 982,-241 982,-241 982,-197 982,-197 982,-191 988,-185 994,-185 994,-185 1206,-185 1206,-185 1212,-185 1218,-191 1218,-197 1218,-197 1218,-241 1218,-241 1218,-247 1212,-253 1206,-253\"/>\r\n",
       "<text text-anchor=\"start\" x=\"1071\" y=\"-237.8\" font-family=\"Helvetica,sans-Serif\" font-size=\"14.00\">gini = 0.0</text>\r\n",
       "<text text-anchor=\"start\" x=\"1060.5\" y=\"-222.8\" font-family=\"Helvetica,sans-Serif\" font-size=\"14.00\">samples = 5</text>\r\n",
       "<text text-anchor=\"start\" x=\"1059.5\" y=\"-207.8\" font-family=\"Helvetica,sans-Serif\" font-size=\"14.00\">value = [5, 0]</text>\r\n",
       "<text text-anchor=\"start\" x=\"990\" y=\"-192.8\" font-family=\"Helvetica,sans-Serif\" font-size=\"14.00\">class = comp.os.ms&#45;windows.misc</text>\r\n",
       "</g>\r\n",
       "<!-- 11&#45;&gt;12 -->\r\n",
       "<g id=\"edge12\" class=\"edge\"><title>11&#45;&gt;12</title>\r\n",
       "<path fill=\"none\" stroke=\"black\" d=\"M946.248,-216.737C954.738,-216.863 963.323,-216.99 971.866,-217.117\"/>\r\n",
       "<polygon fill=\"black\" stroke=\"black\" points=\"971.817,-220.616 981.868,-217.265 971.921,-213.617 971.817,-220.616\"/>\r\n",
       "</g>\r\n",
       "<!-- 13 -->\r\n",
       "<g id=\"node14\" class=\"node\"><title>13</title>\r\n",
       "<path fill=\"#399de5\" stroke=\"black\" d=\"M1151,-167C1151,-167 1049,-167 1049,-167 1043,-167 1037,-161 1037,-155 1037,-155 1037,-111 1037,-111 1037,-105 1043,-99 1049,-99 1049,-99 1151,-99 1151,-99 1157,-99 1163,-105 1163,-111 1163,-111 1163,-155 1163,-155 1163,-161 1157,-167 1151,-167\"/>\r\n",
       "<text text-anchor=\"start\" x=\"1071\" y=\"-151.8\" font-family=\"Helvetica,sans-Serif\" font-size=\"14.00\">gini = 0.0</text>\r\n",
       "<text text-anchor=\"start\" x=\"1060.5\" y=\"-136.8\" font-family=\"Helvetica,sans-Serif\" font-size=\"14.00\">samples = 2</text>\r\n",
       "<text text-anchor=\"start\" x=\"1059.5\" y=\"-121.8\" font-family=\"Helvetica,sans-Serif\" font-size=\"14.00\">value = [0, 2]</text>\r\n",
       "<text text-anchor=\"start\" x=\"1045\" y=\"-106.8\" font-family=\"Helvetica,sans-Serif\" font-size=\"14.00\">class = sci.space</text>\r\n",
       "</g>\r\n",
       "<!-- 11&#45;&gt;13 -->\r\n",
       "<g id=\"edge13\" class=\"edge\"><title>11&#45;&gt;13</title>\r\n",
       "<path fill=\"none\" stroke=\"black\" d=\"M946.248,-179.391C973.763,-171.035 1002.28,-162.375 1027.12,-154.831\"/>\r\n",
       "<polygon fill=\"black\" stroke=\"black\" points=\"1028.25,-158.145 1036.8,-151.89 1026.22,-151.447 1028.25,-158.145\"/>\r\n",
       "</g>\r\n",
       "<!-- 15 -->\r\n",
       "<g id=\"node16\" class=\"node\"><title>15</title>\r\n",
       "<path fill=\"#e58139\" stroke=\"black\" d=\"M662,-247C662,-247 450,-247 450,-247 444,-247 438,-241 438,-235 438,-235 438,-191 438,-191 438,-185 444,-179 450,-179 450,-179 662,-179 662,-179 668,-179 674,-185 674,-191 674,-191 674,-235 674,-235 674,-241 668,-247 662,-247\"/>\r\n",
       "<text text-anchor=\"start\" x=\"527\" y=\"-231.8\" font-family=\"Helvetica,sans-Serif\" font-size=\"14.00\">gini = 0.0</text>\r\n",
       "<text text-anchor=\"start\" x=\"508.5\" y=\"-216.8\" font-family=\"Helvetica,sans-Serif\" font-size=\"14.00\">samples = 401</text>\r\n",
       "<text text-anchor=\"start\" x=\"507.5\" y=\"-201.8\" font-family=\"Helvetica,sans-Serif\" font-size=\"14.00\">value = [401, 0]</text>\r\n",
       "<text text-anchor=\"start\" x=\"446\" y=\"-186.8\" font-family=\"Helvetica,sans-Serif\" font-size=\"14.00\">class = comp.os.ms&#45;windows.misc</text>\r\n",
       "</g>\r\n",
       "<!-- 14&#45;&gt;15 -->\r\n",
       "<g id=\"edge15\" class=\"edge\"><title>14&#45;&gt;15</title>\r\n",
       "<path fill=\"none\" stroke=\"black\" d=\"M402.248,-211.869C410.738,-211.931 419.323,-211.995 427.866,-212.058\"/>\r\n",
       "<polygon fill=\"black\" stroke=\"black\" points=\"427.842,-215.558 437.868,-212.132 427.894,-208.558 427.842,-215.558\"/>\r\n",
       "</g>\r\n",
       "<!-- 16 -->\r\n",
       "<g id=\"node17\" class=\"node\"><title>16</title>\r\n",
       "<path fill=\"#399de5\" fill-opacity=\"0.498039\" stroke=\"black\" d=\"M607,-160.5C607,-160.5 505,-160.5 505,-160.5 499,-160.5 493,-154.5 493,-148.5 493,-148.5 493,-89.5 493,-89.5 493,-83.5 499,-77.5 505,-77.5 505,-77.5 607,-77.5 607,-77.5 613,-77.5 619,-83.5 619,-89.5 619,-89.5 619,-148.5 619,-148.5 619,-154.5 613,-160.5 607,-160.5\"/>\r\n",
       "<text text-anchor=\"start\" x=\"528\" y=\"-145.3\" font-family=\"Helvetica,sans-Serif\" font-size=\"14.00\">are ≤ 0.5</text>\r\n",
       "<text text-anchor=\"start\" x=\"518.5\" y=\"-130.3\" font-family=\"Helvetica,sans-Serif\" font-size=\"14.00\">gini = 0.444</text>\r\n",
       "<text text-anchor=\"start\" x=\"516.5\" y=\"-115.3\" font-family=\"Helvetica,sans-Serif\" font-size=\"14.00\">samples = 3</text>\r\n",
       "<text text-anchor=\"start\" x=\"515.5\" y=\"-100.3\" font-family=\"Helvetica,sans-Serif\" font-size=\"14.00\">value = [1, 2]</text>\r\n",
       "<text text-anchor=\"start\" x=\"501\" y=\"-85.3\" font-family=\"Helvetica,sans-Serif\" font-size=\"14.00\">class = sci.space</text>\r\n",
       "</g>\r\n",
       "<!-- 14&#45;&gt;16 -->\r\n",
       "<g id=\"edge16\" class=\"edge\"><title>14&#45;&gt;16</title>\r\n",
       "<path fill=\"none\" stroke=\"black\" d=\"M402.248,-171.049C429.763,-161.673 458.278,-151.957 483.116,-143.494\"/>\r\n",
       "<polygon fill=\"black\" stroke=\"black\" points=\"484.465,-146.732 492.802,-140.194 482.207,-140.106 484.465,-146.732\"/>\r\n",
       "</g>\r\n",
       "<!-- 17 -->\r\n",
       "<g id=\"node18\" class=\"node\"><title>17</title>\r\n",
       "<path fill=\"#e58139\" stroke=\"black\" d=\"M934,-154C934,-154 722,-154 722,-154 716,-154 710,-148 710,-142 710,-142 710,-98 710,-98 710,-92 716,-86 722,-86 722,-86 934,-86 934,-86 940,-86 946,-92 946,-98 946,-98 946,-142 946,-142 946,-148 940,-154 934,-154\"/>\r\n",
       "<text text-anchor=\"start\" x=\"799\" y=\"-138.8\" font-family=\"Helvetica,sans-Serif\" font-size=\"14.00\">gini = 0.0</text>\r\n",
       "<text text-anchor=\"start\" x=\"788.5\" y=\"-123.8\" font-family=\"Helvetica,sans-Serif\" font-size=\"14.00\">samples = 1</text>\r\n",
       "<text text-anchor=\"start\" x=\"787.5\" y=\"-108.8\" font-family=\"Helvetica,sans-Serif\" font-size=\"14.00\">value = [1, 0]</text>\r\n",
       "<text text-anchor=\"start\" x=\"718\" y=\"-93.8\" font-family=\"Helvetica,sans-Serif\" font-size=\"14.00\">class = comp.os.ms&#45;windows.misc</text>\r\n",
       "</g>\r\n",
       "<!-- 16&#45;&gt;17 -->\r\n",
       "<g id=\"edge17\" class=\"edge\"><title>16&#45;&gt;17</title>\r\n",
       "<path fill=\"none\" stroke=\"black\" d=\"M619.282,-119.231C643.278,-119.32 671.643,-119.425 699.574,-119.528\"/>\r\n",
       "<polygon fill=\"black\" stroke=\"black\" points=\"699.823,-123.029 709.836,-119.566 699.849,-116.029 699.823,-123.029\"/>\r\n",
       "</g>\r\n",
       "<!-- 18 -->\r\n",
       "<g id=\"node19\" class=\"node\"><title>18</title>\r\n",
       "<path fill=\"#399de5\" stroke=\"black\" d=\"M879,-68C879,-68 777,-68 777,-68 771,-68 765,-62 765,-56 765,-56 765,-12 765,-12 765,-6 771,-0 777,-0 777,-0 879,-0 879,-0 885,-0 891,-6 891,-12 891,-12 891,-56 891,-56 891,-62 885,-68 879,-68\"/>\r\n",
       "<text text-anchor=\"start\" x=\"799\" y=\"-52.8\" font-family=\"Helvetica,sans-Serif\" font-size=\"14.00\">gini = 0.0</text>\r\n",
       "<text text-anchor=\"start\" x=\"788.5\" y=\"-37.8\" font-family=\"Helvetica,sans-Serif\" font-size=\"14.00\">samples = 2</text>\r\n",
       "<text text-anchor=\"start\" x=\"787.5\" y=\"-22.8\" font-family=\"Helvetica,sans-Serif\" font-size=\"14.00\">value = [0, 2]</text>\r\n",
       "<text text-anchor=\"start\" x=\"773\" y=\"-7.8\" font-family=\"Helvetica,sans-Serif\" font-size=\"14.00\">class = sci.space</text>\r\n",
       "</g>\r\n",
       "<!-- 16&#45;&gt;18 -->\r\n",
       "<g id=\"edge18\" class=\"edge\"><title>16&#45;&gt;18</title>\r\n",
       "<path fill=\"none\" stroke=\"black\" d=\"M619.282,-99.3926C659.738,-86.6567 712.611,-70.0114 754.888,-56.7019\"/>\r\n",
       "<polygon fill=\"black\" stroke=\"black\" points=\"756.076,-59.9973 764.564,-53.6559 753.974,-53.3203 756.076,-59.9973\"/>\r\n",
       "</g>\r\n",
       "</g>\r\n",
       "</svg>\r\n"
      ],
      "text/plain": [
       "<graphviz.files.Source at 0x2446c7b1da0>"
      ]
     },
     "execution_count": 126,
     "metadata": {},
     "output_type": "execute_result"
    }
   ],
   "source": [
    "dot_data = tree.export_graphviz(clf, out_file=None, \n",
    "                                feature_names=feature_names, class_names=target_names,\n",
    "                                max_depth=None, \n",
    "                                filled=True, rounded=True, rotate=True, special_characters=True)  \n",
    "graph = graphviz.Source(dot_data)\n",
    "#graph.render()\n",
    "graph"
   ]
  },
  {
   "cell_type": "code",
   "execution_count": 127,
   "metadata": {},
   "outputs": [],
   "source": [
    "from sklearn.feature_selection import mutual_info_classif"
   ]
  },
  {
   "cell_type": "code",
   "execution_count": 128,
   "metadata": {},
   "outputs": [],
   "source": [
    "mis = mutual_info_classif(X, y, discrete_features=True)"
   ]
  },
  {
   "cell_type": "code",
   "execution_count": 129,
   "metadata": {},
   "outputs": [
    {
     "name": "stdout",
     "output_type": "stream",
     "text": [
      "windows:\t0.3177\n",
      "space:\t0.1570\n",
      "nasa:\t0.1284\n",
      "orbit:\t0.0848\n",
      "earth:\t0.0789\n",
      "dos:\t0.0773\n",
      "moon:\t0.0724\n",
      "file:\t0.0717\n",
      "ms:\t0.0616\n",
      "launch:\t0.0530\n"
     ]
    }
   ],
   "source": [
    "for i in np.argsort(mis)[::-1][:10]:\n",
    "    print(\"%s:\\t%0.4f\" %(feature_names[i], mis[i]))"
   ]
  },
  {
   "cell_type": "code",
   "execution_count": 130,
   "metadata": {},
   "outputs": [],
   "source": [
    "fis = clf.feature_importances_"
   ]
  },
  {
   "cell_type": "code",
   "execution_count": 131,
   "metadata": {},
   "outputs": [
    {
     "name": "stdout",
     "output_type": "stream",
     "text": [
      "windows:\t0.3177\n",
      "space:\t0.1570\n",
      "nasa:\t0.1284\n",
      "file:\t0.0717\n",
      "disk:\t0.0223\n",
      "bureau:\t0.0020\n",
      "sci:\t0.0500\n",
      "ram:\t0.0201\n",
      "are:\t0.0039\n",
      "europe:\t0.0059\n"
     ]
    }
   ],
   "source": [
    "for i in np.argsort(fis)[::-1][:10]:\n",
    "    print(\"%s:\\t%0.4f\" %(feature_names[i], mis[i]))"
   ]
  },
  {
   "cell_type": "code",
   "execution_count": null,
   "metadata": {},
   "outputs": [],
   "source": []
  }
 ],
 "metadata": {
  "kernelspec": {
   "display_name": "Python 3",
   "language": "python",
   "name": "python3"
  },
  "language_info": {
   "codemirror_mode": {
    "name": "ipython",
    "version": 3
   },
   "file_extension": ".py",
   "mimetype": "text/x-python",
   "name": "python",
   "nbconvert_exporter": "python",
   "pygments_lexer": "ipython3",
   "version": "3.5.4"
  }
 },
 "nbformat": 4,
 "nbformat_minor": 2
}
