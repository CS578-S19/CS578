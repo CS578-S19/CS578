{
 "cells": [
  {
   "cell_type": "markdown",
   "metadata": {},
   "source": [
    "# Logistic Regression\n",
    "\n",
    "## References\n",
    "\n",
    "\n",
    "* http://www.cs.cmu.edu/~tom/mlbook/NBayesLogReg.pdf\n",
    "* https://scikit-learn.org/stable/modules/linear_model.html#logistic-regression\n",
    "* https://scikit-learn.org/stable/modules/generated/sklearn.linear_model.LogisticRegression.html\n",
    "* http://www.csie.ntu.edu.tw/~cjlin/papers/liblinear.pdf\n",
    "\n"
   ]
  },
  {
   "cell_type": "code",
   "execution_count": 24,
   "metadata": {},
   "outputs": [],
   "source": [
    "import matplotlib.pylab as plt\n",
    "from matplotlib import colors\n",
    "from matplotlib import pylab\n",
    "import numpy as np\n",
    "import scipy.optimize as opt\n",
    "from sklearn.datasets import make_classification\n",
    "from sklearn.linear_model import LogisticRegression\n",
    "from sklearn.preprocessing import StandardScaler\n",
    "\n",
    "pylab.rcParams['figure.figsize'] = (10.0, 8.0)"
   ]
  },
  {
   "cell_type": "code",
   "execution_count": 2,
   "metadata": {},
   "outputs": [],
   "source": [
    "def lf(s):\n",
    "    return 1/(1+np.exp(s))\n",
    "\n",
    "def probFalse(s):\n",
    "    return lf(s)\n",
    "\n",
    "def probTrue(s):\n",
    "    return 1-lf(s)\n",
    "\n",
    "def predict(s):\n",
    "    return s > 0"
   ]
  },
  {
   "cell_type": "code",
   "execution_count": 3,
   "metadata": {},
   "outputs": [
    {
     "data": {
      "text/plain": [
       "-9.079779843364126e-05"
      ]
     },
     "execution_count": 3,
     "metadata": {},
     "output_type": "execute_result"
    }
   ],
   "source": [
    "w=10\n",
    "b=0\n",
    "np.log(1/(1+np.exp(-w))) + np.log(np.exp(w)/(1+np.exp(w)))"
   ]
  },
  {
   "cell_type": "code",
   "execution_count": 4,
   "metadata": {},
   "outputs": [],
   "source": [
    "def cll(X, y, w, b):\n",
    "    c_ = 0\n",
    "    for i in range(X.shape[0]):\n",
    "        s = np.dot(X[i], w).sum() + b\n",
    "        if y[i]:\n",
    "            c_ += np.log(probTrue(s))\n",
    "        else:\n",
    "            c_ += np.log(probFalse(s))\n",
    "    return c_"
   ]
  },
  {
   "cell_type": "code",
   "execution_count": 5,
   "metadata": {},
   "outputs": [],
   "source": [
    "X = np.matrix([[-1], [2]])\n",
    "y = [0, 1]"
   ]
  },
  {
   "cell_type": "code",
   "execution_count": 6,
   "metadata": {},
   "outputs": [
    {
     "data": {
      "text/plain": [
       "<matplotlib.legend.Legend at 0x279fde1d748>"
      ]
     },
     "execution_count": 6,
     "metadata": {},
     "output_type": "execute_result"
    },
    {
     "data": {
      "image/png": "[encoded data removed]",
      "text/plain": [
       "<Figure size 432x288 with 1 Axes>"
      ]
     },
     "metadata": {},
     "output_type": "display_data"
    }
   ],
   "source": [
    "ws = np.linspace(-4, 8, 1000)\n",
    "C = 1\n",
    "_, ax = plt.subplots()\n",
    "ax.plot(ws, [C*cll(X, y, [w], 0) for w in ws], linewidth=2, label='CLL(w)')\n",
    "ax.plot(ws, [C*cll(X, y, [w], 0) - 0.5*w*w for w in ws], linewidth=2, label='CLL(w)-L2')\n",
    "ax.plot(ws, [C*cll(X, y, [w], 0) - np.abs(w) for w in ws], linewidth=2, label='CLL(w)-L1')\n",
    "ax.legend(loc=4)"
   ]
  },
  {
   "cell_type": "code",
   "execution_count": 7,
   "metadata": {},
   "outputs": [
    {
     "data": {
      "text/plain": [
       "8.0"
      ]
     },
     "execution_count": 7,
     "metadata": {},
     "output_type": "execute_result"
    }
   ],
   "source": [
    "ws[np.argmax([C*cll(X, y, [w], 0) for w in ws])]"
   ]
  },
  {
   "cell_type": "code",
   "execution_count": 8,
   "metadata": {},
   "outputs": [
    {
     "data": {
      "text/plain": [
       "0.7207207207207205"
      ]
     },
     "execution_count": 8,
     "metadata": {},
     "output_type": "execute_result"
    }
   ],
   "source": [
    "ws[np.argmax([C*cll(X, y, [w], 0) - 0.5*w*w for w in ws])]"
   ]
  },
  {
   "cell_type": "code",
   "execution_count": 9,
   "metadata": {},
   "outputs": [
    {
     "data": {
      "text/plain": [
       "0.42042042042042027"
      ]
     },
     "execution_count": 9,
     "metadata": {},
     "output_type": "execute_result"
    }
   ],
   "source": [
    "ws[np.argmax([C*cll(X, y, [w], 0) - np.abs(w) for w in ws])]"
   ]
  },
  {
   "cell_type": "code",
   "execution_count": 10,
   "metadata": {},
   "outputs": [
    {
     "data": {
      "text/plain": [
       "LogisticRegression(C=1, class_weight=None, dual=False, fit_intercept=True,\n",
       "          intercept_scaling=1, max_iter=100, multi_class='warn',\n",
       "          n_jobs=None, penalty='l2', random_state=None, solver='liblinear',\n",
       "          tol=0.0001, verbose=0, warm_start=False)"
      ]
     },
     "execution_count": 10,
     "metadata": {},
     "output_type": "execute_result"
    }
   ],
   "source": [
    "lr = LogisticRegression(penalty='l2', solver='liblinear', C = C)\n",
    "lr.fit(X, y)"
   ]
  },
  {
   "cell_type": "code",
   "execution_count": 11,
   "metadata": {},
   "outputs": [
    {
     "name": "stdout",
     "output_type": "stream",
     "text": [
      "[-0.09876038]\n",
      "[[0.72034182]]\n"
     ]
    }
   ],
   "source": [
    "print(lr.intercept_)\n",
    "print(lr.coef_)"
   ]
  },
  {
   "cell_type": "code",
   "execution_count": 12,
   "metadata": {},
   "outputs": [
    {
     "data": {
      "text/plain": [
       "array([[0.69404573, 0.30595427],\n",
       "       [0.20719396, 0.79280604]])"
      ]
     },
     "execution_count": 12,
     "metadata": {},
     "output_type": "execute_result"
    }
   ],
   "source": [
    "lr.predict_proba(X)"
   ]
  },
  {
   "cell_type": "markdown",
   "metadata": {},
   "source": [
    "## Single Feature"
   ]
  },
  {
   "cell_type": "code",
   "execution_count": 13,
   "metadata": {},
   "outputs": [],
   "source": [
    "#N = 20\n",
    "#x1 = np.random.normal(3, 2, N)\n",
    "x1 = np.arange(-3, 10)\n",
    "X = x1.reshape(-1, 1)\n",
    "N = X.shape[0]"
   ]
  },
  {
   "cell_type": "code",
   "execution_count": 14,
   "metadata": {},
   "outputs": [
    {
     "data": {
      "text/plain": [
       "3.0"
      ]
     },
     "execution_count": 14,
     "metadata": {},
     "output_type": "execute_result"
    }
   ],
   "source": [
    "np.mean(X)"
   ]
  },
  {
   "cell_type": "code",
   "execution_count": 15,
   "metadata": {},
   "outputs": [],
   "source": [
    "b = -6\n",
    "w = [2]"
   ]
  },
  {
   "cell_type": "code",
   "execution_count": 16,
   "metadata": {},
   "outputs": [],
   "source": [
    "df = (w*X).sum(axis=1) + b"
   ]
  },
  {
   "cell_type": "code",
   "execution_count": 17,
   "metadata": {},
   "outputs": [
    {
     "data": {
      "text/plain": [
       "0.0"
      ]
     },
     "execution_count": 17,
     "metadata": {},
     "output_type": "execute_result"
    }
   ],
   "source": [
    "np.mean(df)"
   ]
  },
  {
   "cell_type": "code",
   "execution_count": 18,
   "metadata": {},
   "outputs": [],
   "source": [
    "pf = lf(df)\n",
    "# Deterministic y\n",
    "y = pf<0.5"
   ]
  },
  {
   "cell_type": "code",
   "execution_count": 19,
   "metadata": {},
   "outputs": [
    {
     "data": {
      "text/plain": [
       "(array([5., 1., 0., 0., 0., 1., 0., 0., 1., 5.]),\n",
       " array([6.14417460e-06, 1.00004915e-01, 2.00003687e-01, 3.00002458e-01,\n",
       "        4.00001229e-01, 5.00000000e-01, 5.99998771e-01, 6.99997542e-01,\n",
       "        7.99996313e-01, 8.99995085e-01, 9.99993856e-01]),\n",
       " <a list of 10 Patch objects>)"
      ]
     },
     "execution_count": 19,
     "metadata": {},
     "output_type": "execute_result"
    },
    {
     "data": {
      "image/png": "[encoded data removed]",
      "text/plain": [
       "<Figure size 432x288 with 1 Axes>"
      ]
     },
     "metadata": {},
     "output_type": "display_data"
    }
   ],
   "source": [
    "plt.hist(pf)"
   ]
  },
  {
   "cell_type": "code",
   "execution_count": 20,
   "metadata": {},
   "outputs": [
    {
     "data": {
      "text/plain": [
       "(array([7., 0., 0., 0., 0., 0., 0., 0., 0., 6.]),\n",
       " array([0. , 0.1, 0.2, 0.3, 0.4, 0.5, 0.6, 0.7, 0.8, 0.9, 1. ]),\n",
       " <a list of 10 Patch objects>)"
      ]
     },
     "execution_count": 20,
     "metadata": {},
     "output_type": "execute_result"
    },
    {
     "data": {
      "image/png": "[encoded data removed]",
      "text/plain": [
       "<Figure size 432x288 with 1 Axes>"
      ]
     },
     "metadata": {},
     "output_type": "display_data"
    }
   ],
   "source": [
    "plt.hist(y)"
   ]
  },
  {
   "cell_type": "code",
   "execution_count": 21,
   "metadata": {},
   "outputs": [],
   "source": [
    "ny0 = np.sum(y==0)\n",
    "ny1 = X.shape[0] - ny0"
   ]
  },
  {
   "cell_type": "code",
   "execution_count": 22,
   "metadata": {},
   "outputs": [
    {
     "data": {
      "text/plain": [
       "<matplotlib.collections.PathCollection at 0x279fdf34438>"
      ]
     },
     "execution_count": 22,
     "metadata": {},
     "output_type": "execute_result"
    },
    {
     "data": {
      "image/png": "[encoded data removed]",
      "text/plain": [
       "<Figure size 432x288 with 1 Axes>"
      ]
     },
     "metadata": {},
     "output_type": "display_data"
    }
   ],
   "source": [
    "plt.scatter(X[y==0, 0], np.zeros(ny0), marker='o')\n",
    "plt.scatter(X[y==1, 0], np.zeros(ny1), marker='x')"
   ]
  },
  {
   "cell_type": "code",
   "execution_count": 27,
   "metadata": {},
   "outputs": [
    {
     "data": {
      "text/plain": [
       "<matplotlib.collections.PathCollection at 0x279ff120278>"
      ]
     },
     "execution_count": 27,
     "metadata": {},
     "output_type": "execute_result"
    },
    {
     "data": {
      "image/png": "[encoded data removed]",
      "text/plain": [
       "<Figure size 720x576 with 1 Axes>"
      ]
     },
     "metadata": {},
     "output_type": "display_data"
    }
   ],
   "source": [
    "# Meshgrig for one feature data\n",
    "nx = ny = 200\n",
    "x_min = np.min(X, axis=0)[0]\n",
    "x_max = np.max(X, axis=0)[0]\n",
    "y_min = -0.1\n",
    "y_max = 1.1\n",
    "xx, yy = np.meshgrid(np.linspace(x_min, x_max, nx), np.linspace(y_min, y_max, ny))\n",
    "D=np.c_[xx.ravel(), yy.ravel()]\n",
    "\n",
    "\n",
    "\n",
    "m = np.mean(X)\n",
    "w0 = 10\n",
    "b = -(w0*m)\n",
    "w=[w0]\n",
    "\n",
    "df = (w*D[:, 0]) + b\n",
    "pf = lf(df)\n",
    "\n",
    "data = D[:, 0]\n",
    "inds = np.argsort(data)\n",
    "plt.plot(data[inds], pf[inds])\n",
    "\n",
    "pf = pf-0.5\n",
    "\n",
    "p=pf.reshape(xx.shape)\n",
    "\n",
    "\n",
    "plt.pcolormesh(xx, yy, p, cmap='seismic', norm=colors.Normalize(-5, 5))\n",
    "plt.contour(xx, yy, p, [0], linewidths=2., colors='k')\n",
    "plt.scatter(X[y==0, 0], np.zeros(ny0), marker='o')\n",
    "plt.scatter(X[y==1, 0], np.zeros(ny1), marker='x')"
   ]
  },
  {
   "cell_type": "markdown",
   "metadata": {},
   "source": [
    "## Two Features"
   ]
  },
  {
   "cell_type": "code",
   "execution_count": 28,
   "metadata": {},
   "outputs": [],
   "source": [
    "x1 = np.arange(-3, 10)\n",
    "x2 = np.arange(-3, 10)\n",
    "X = np.hstack((x1.reshape(-1, 1), x2.reshape(-1, 1)))\n",
    "N = X.shape[0]"
   ]
  },
  {
   "cell_type": "code",
   "execution_count": 29,
   "metadata": {},
   "outputs": [
    {
     "data": {
      "text/plain": [
       "array([3., 3.])"
      ]
     },
     "execution_count": 29,
     "metadata": {},
     "output_type": "execute_result"
    }
   ],
   "source": [
    "np.mean(X,axis=0)"
   ]
  },
  {
   "cell_type": "code",
   "execution_count": 30,
   "metadata": {},
   "outputs": [],
   "source": [
    "b = -3\n",
    "w = [-2, 3]\n",
    "\n",
    "df = (w*X).sum(axis=1) + b"
   ]
  },
  {
   "cell_type": "code",
   "execution_count": 31,
   "metadata": {},
   "outputs": [
    {
     "data": {
      "text/plain": [
       "0.0"
      ]
     },
     "execution_count": 31,
     "metadata": {},
     "output_type": "execute_result"
    }
   ],
   "source": [
    "np.mean(df)"
   ]
  },
  {
   "cell_type": "code",
   "execution_count": 32,
   "metadata": {},
   "outputs": [],
   "source": [
    "pf = lf(df)\n",
    "\n",
    "y = pf < 0.5"
   ]
  },
  {
   "cell_type": "code",
   "execution_count": 41,
   "metadata": {},
   "outputs": [
    {
     "data": {
      "text/plain": [
       "LogisticRegression(C=100, class_weight=None, dual=False, fit_intercept=True,\n",
       "          intercept_scaling=1, max_iter=100, multi_class='warn',\n",
       "          n_jobs=None, penalty='l1', random_state=None, solver='liblinear',\n",
       "          tol=0.0001, verbose=0, warm_start=False)"
      ]
     },
     "execution_count": 41,
     "metadata": {},
     "output_type": "execute_result"
    }
   ],
   "source": [
    "lr = LogisticRegression(solver='liblinear', C=100, penalty='l1')\n",
    "lr.fit(X, y)"
   ]
  },
  {
   "cell_type": "code",
   "execution_count": 42,
   "metadata": {},
   "outputs": [
    {
     "name": "stdout",
     "output_type": "stream",
     "text": [
      "[-21.00943357]\n",
      "[3.01145674 3.02529857]\n"
     ]
    }
   ],
   "source": [
    "print(lr.intercept_)\n",
    "print(lr.coef_[0])"
   ]
  },
  {
   "cell_type": "code",
   "execution_count": 43,
   "metadata": {},
   "outputs": [
    {
     "data": {
      "text/plain": [
       "1.0"
      ]
     },
     "execution_count": 43,
     "metadata": {},
     "output_type": "execute_result"
    }
   ],
   "source": [
    "lr.score(X, y)"
   ]
  },
  {
   "cell_type": "code",
   "execution_count": 44,
   "metadata": {
    "scrolled": true
   },
   "outputs": [
    {
     "data": {
      "text/plain": [
       "<matplotlib.collections.PathCollection at 0x279ffc42f60>"
      ]
     },
     "execution_count": 44,
     "metadata": {},
     "output_type": "execute_result"
    },
    {
     "data": {
      "image/png": "[encoded data removed]",
      "text/plain": [
       "<Figure size 720x576 with 1 Axes>"
      ]
     },
     "metadata": {},
     "output_type": "display_data"
    }
   ],
   "source": [
    "# For two features\n",
    "\n",
    "nx = ny = 200\n",
    "x_min = np.min(X, axis=0)[0]\n",
    "x_max = np.max(X, axis=0)[0]\n",
    "y_min = np.min(X, axis=0)[1]\n",
    "y_max = np.max(X, axis=0)[1]\n",
    "xx, yy = np.meshgrid(np.linspace(x_min, x_max, nx), np.linspace(y_min, y_max, ny))\n",
    "D=np.c_[xx.ravel(), yy.ravel()]\n",
    "p=np.array([lr.predict_proba([d])[0][0] for d in D])\n",
    "p = p-0.5\n",
    "p=p.reshape(xx.shape)\n",
    "plt.pcolormesh(xx, yy, p, cmap='seismic', norm=colors.Normalize(-5, 5))\n",
    "plt.contour(xx, yy, p, [0], linewidths=2., colors='k')\n",
    "plt.scatter(X[y==0, 0], X[y==0, 1], marker='o')\n",
    "plt.scatter(X[y==1, 0], X[y==1, 1], marker='x')"
   ]
  },
  {
   "cell_type": "code",
   "execution_count": 45,
   "metadata": {},
   "outputs": [],
   "source": [
    "lr.intercept_ = b\n",
    "lr.coef_[0] = np.asarray(w)"
   ]
  },
  {
   "cell_type": "code",
   "execution_count": 46,
   "metadata": {},
   "outputs": [
    {
     "data": {
      "text/plain": [
       "1.0"
      ]
     },
     "execution_count": 46,
     "metadata": {},
     "output_type": "execute_result"
    }
   ],
   "source": [
    "lr.score(X, y)"
   ]
  },
  {
   "cell_type": "code",
   "execution_count": 47,
   "metadata": {},
   "outputs": [
    {
     "data": {
      "text/plain": [
       "<matplotlib.collections.PathCollection at 0x279ffef2550>"
      ]
     },
     "execution_count": 47,
     "metadata": {},
     "output_type": "execute_result"
    },
    {
     "data": {
      "image/png": "[encoded data removed]",
      "text/plain": [
       "<Figure size 720x576 with 1 Axes>"
      ]
     },
     "metadata": {},
     "output_type": "display_data"
    }
   ],
   "source": [
    "# For two features\n",
    "\n",
    "nx = ny = 200\n",
    "x_min = np.min(X, axis=0)[0]\n",
    "x_max = np.max(X, axis=0)[0]\n",
    "y_min = np.min(X, axis=0)[1]\n",
    "y_max = np.max(X, axis=0)[1]\n",
    "xx, yy = np.meshgrid(np.linspace(x_min, x_max, nx), np.linspace(y_min, y_max, ny))\n",
    "D=np.c_[xx.ravel(), yy.ravel()]\n",
    "p=np.array([lr.predict_proba([d])[0][0] for d in D])\n",
    "p = p-0.5\n",
    "p=p.reshape(xx.shape)\n",
    "plt.pcolormesh(xx, yy, p, cmap='seismic', norm=colors.Normalize(-5, 5))\n",
    "plt.contour(xx, yy, p, [0], linewidths=2., colors='k')\n",
    "plt.scatter(X[y==0, 0], X[y==0, 1], marker='o')\n",
    "plt.scatter(X[y==1, 0], X[y==1, 1], marker='x')"
   ]
  },
  {
   "cell_type": "markdown",
   "metadata": {},
   "source": [
    "## Regularization"
   ]
  },
  {
   "cell_type": "markdown",
   "metadata": {},
   "source": [
    "__Question (exercise):__ Assume that there are two features that are identical. Under what conditions Would their weights be identical\n",
    "* a) no regularization? \n",
    "* b) L2? \n",
    "* c) L1? "
   ]
  },
  {
   "cell_type": "code",
   "execution_count": 48,
   "metadata": {},
   "outputs": [],
   "source": [
    "from sklearn.datasets import load_breast_cancer"
   ]
  },
  {
   "cell_type": "code",
   "execution_count": 49,
   "metadata": {},
   "outputs": [],
   "source": [
    "X, y = load_breast_cancer(return_X_y=True)"
   ]
  },
  {
   "cell_type": "code",
   "execution_count": 50,
   "metadata": {},
   "outputs": [],
   "source": [
    "from sklearn.model_selection import train_test_split\n",
    "import math"
   ]
  },
  {
   "cell_type": "code",
   "execution_count": 51,
   "metadata": {},
   "outputs": [],
   "source": [
    "X_train, X_test, y_train, y_test = train_test_split(X, y, random_state=42, test_size=1/3)"
   ]
  },
  {
   "cell_type": "code",
   "execution_count": 52,
   "metadata": {},
   "outputs": [
    {
     "data": {
      "text/plain": [
       "(379, 30)"
      ]
     },
     "execution_count": 52,
     "metadata": {},
     "output_type": "execute_result"
    }
   ],
   "source": [
    "X_train.shape"
   ]
  },
  {
   "cell_type": "code",
   "execution_count": 53,
   "metadata": {},
   "outputs": [
    {
     "data": {
      "text/plain": [
       "(190, 30)"
      ]
     },
     "execution_count": 53,
     "metadata": {},
     "output_type": "execute_result"
    }
   ],
   "source": [
    "X_test.shape"
   ]
  },
  {
   "cell_type": "code",
   "execution_count": 54,
   "metadata": {},
   "outputs": [],
   "source": [
    "train_clls = []\n",
    "test_clls = []\n",
    "for p in np.arange(-5, 5):\n",
    "    c = math.pow(10, p)\n",
    "    lr = LogisticRegression(solver='liblinear', penalty='l2', C=c)\n",
    "    lr.fit(X_train, y_train)\n",
    "    train_clls.append(cll(X_train, y_train, lr.coef_[0], lr.intercept_)/X_train.shape[0])\n",
    "    test_clls.append(cll(X_test, y_test, lr.coef_[0], lr.intercept_)/X_test.shape[0])"
   ]
  },
  {
   "cell_type": "code",
   "execution_count": 55,
   "metadata": {},
   "outputs": [
    {
     "data": {
      "text/plain": [
       "<matplotlib.legend.Legend at 0x279fff695f8>"
      ]
     },
     "execution_count": 55,
     "metadata": {},
     "output_type": "execute_result"
    },
    {
     "data": {
      "image/png": "[encoded data removed]",
      "text/plain": [
       "<Figure size 720x576 with 1 Axes>"
      ]
     },
     "metadata": {},
     "output_type": "display_data"
    }
   ],
   "source": [
    "plt.plot(train_clls, label='Train CLL')\n",
    "plt.plot(test_clls, label='Test CLL')\n",
    "plt.legend()"
   ]
  },
  {
   "cell_type": "code",
   "execution_count": 56,
   "metadata": {},
   "outputs": [],
   "source": [
    "from sklearn.metrics import log_loss"
   ]
  },
  {
   "cell_type": "code",
   "execution_count": 57,
   "metadata": {},
   "outputs": [
    {
     "name": "stdout",
     "output_type": "stream",
     "text": [
      "1e-05\n",
      "0\n",
      "\n",
      "0.0001\n",
      "0\n",
      "\n",
      "0.001\n",
      "0\n",
      "\n",
      "0.01\n",
      "0\n",
      "\n",
      "0.1\n",
      "0\n",
      "\n",
      "1.0\n",
      "0\n",
      "\n",
      "10.0\n",
      "0\n",
      "\n",
      "100.0\n",
      "0\n",
      "\n",
      "1000.0\n",
      "0\n",
      "\n",
      "10000.0\n",
      "0\n",
      "\n"
     ]
    }
   ],
   "source": [
    "train_lls = []\n",
    "test_lls = []\n",
    "for p in np.arange(-5, 5):\n",
    "    c = math.pow(10, p)\n",
    "    lr = LogisticRegression(solver='liblinear', penalty='l2', C=c)\n",
    "    lr.fit(X_train, y_train)\n",
    "    train_lls.append(log_loss(y_train, lr.predict_proba(X_train)))\n",
    "    test_lls.append(log_loss(y_test, lr.predict_proba(X_test)))\n",
    "    print(c)\n",
    "    print(np.sum(lr.coef_[0]==0))\n",
    "    print()"
   ]
  },
  {
   "cell_type": "code",
   "execution_count": 58,
   "metadata": {},
   "outputs": [
    {
     "data": {
      "text/plain": [
       "<matplotlib.legend.Legend at 0x279fff33ba8>"
      ]
     },
     "execution_count": 58,
     "metadata": {},
     "output_type": "execute_result"
    },
    {
     "data": {
      "image/png": "[encoded data removed]",
      "text/plain": [
       "<Figure size 720x576 with 1 Axes>"
      ]
     },
     "metadata": {},
     "output_type": "display_data"
    }
   ],
   "source": [
    "plt.plot(train_lls, label='Train LogLoss')\n",
    "plt.plot(test_lls, label='Test LogLoss')\n",
    "plt.legend()"
   ]
  },
  {
   "cell_type": "code",
   "execution_count": null,
   "metadata": {},
   "outputs": [],
   "source": []
  },
  {
   "cell_type": "code",
   "execution_count": 59,
   "metadata": {},
   "outputs": [],
   "source": [
    "# You probably should not do this!\n",
    "import warnings\n",
    "from sklearn.exceptions import ConvergenceWarning\n",
    "warnings.filterwarnings(action='ignore', category=ConvergenceWarning)"
   ]
  },
  {
   "cell_type": "code",
   "execution_count": 60,
   "metadata": {},
   "outputs": [
    {
     "name": "stdout",
     "output_type": "stream",
     "text": [
      "1e-05\n",
      "30\n",
      "\n",
      "0.0001\n",
      "29\n",
      "\n",
      "0.001\n",
      "27\n",
      "\n",
      "0.01\n",
      "26\n",
      "\n",
      "0.1\n",
      "23\n",
      "\n",
      "1.0\n",
      "20\n",
      "\n",
      "10.0\n",
      "18\n",
      "\n",
      "100.0\n",
      "10\n",
      "\n",
      "1000.0\n",
      "2\n",
      "\n",
      "10000.0\n",
      "0\n",
      "\n"
     ]
    }
   ],
   "source": [
    "train_lls = []\n",
    "test_lls = []\n",
    "for p in np.arange(-5, 5):\n",
    "    c = math.pow(10, p)\n",
    "    lr = LogisticRegression(solver='liblinear', penalty='l1', C=c)\n",
    "    lr.fit(X_train, y_train)\n",
    "    train_lls.append(log_loss(y_train, lr.predict_proba(X_train)))\n",
    "    test_lls.append(log_loss(y_test, lr.predict_proba(X_test)))\n",
    "    print(c)\n",
    "    print(np.sum(lr.coef_[0]==0))\n",
    "    print()"
   ]
  },
  {
   "cell_type": "code",
   "execution_count": 61,
   "metadata": {},
   "outputs": [
    {
     "data": {
      "text/plain": [
       "<matplotlib.legend.Legend at 0x27981705e10>"
      ]
     },
     "execution_count": 61,
     "metadata": {},
     "output_type": "execute_result"
    },
    {
     "data": {
      "image/png": "[encoded data removed]",
      "text/plain": [
       "<Figure size 720x576 with 1 Axes>"
      ]
     },
     "metadata": {},
     "output_type": "display_data"
    }
   ],
   "source": [
    "plt.plot(train_lls, label='Train LogLoss')\n",
    "plt.plot(test_lls, label='Test LogLoss')\n",
    "plt.legend()"
   ]
  },
  {
   "cell_type": "markdown",
   "metadata": {},
   "source": [
    "## IMDB"
   ]
  },
  {
   "cell_type": "code",
   "execution_count": 62,
   "metadata": {},
   "outputs": [],
   "source": [
    "import codecs\n",
    "import pickle\n",
    "from sklearn.feature_extraction.text import CountVectorizer\n",
    "import numpy as np\n",
    "import matplotlib.pylab as plt\n",
    "from IPython.core import display\n",
    "import re"
   ]
  },
  {
   "cell_type": "code",
   "execution_count": 63,
   "metadata": {},
   "outputs": [],
   "source": [
    "with open(\"data/imdb.pickle.z\", 'rb') as f:\n",
    "    compressed_data = f.read()\n",
    "\n",
    "uncompressed_data = codecs.decode(compressed_data, 'zlib_codec')\n",
    "imdb_data = pickle.loads(uncompressed_data)"
   ]
  },
  {
   "cell_type": "code",
   "execution_count": 64,
   "metadata": {},
   "outputs": [],
   "source": [
    "tp = r\"(?u)\\b[\\w\\'/]+\\b\"\n",
    "vect = CountVectorizer(token_pattern=tp, lowercase=True, ngram_range=(1, 1), min_df=10, max_df=0.7, binary=True)"
   ]
  },
  {
   "cell_type": "code",
   "execution_count": 65,
   "metadata": {},
   "outputs": [],
   "source": [
    "X_train = vect.fit_transform(imdb_data['train_corpus'])"
   ]
  },
  {
   "cell_type": "code",
   "execution_count": 66,
   "metadata": {},
   "outputs": [
    {
     "data": {
      "text/plain": [
       "(25000, 18948)"
      ]
     },
     "execution_count": 66,
     "metadata": {},
     "output_type": "execute_result"
    }
   ],
   "source": [
    "X_train.shape"
   ]
  },
  {
   "cell_type": "code",
   "execution_count": 67,
   "metadata": {},
   "outputs": [],
   "source": [
    "feature_names = np.asarray(vect.get_feature_names())"
   ]
  },
  {
   "cell_type": "code",
   "execution_count": 68,
   "metadata": {},
   "outputs": [],
   "source": [
    "X_test = vect.transform(imdb_data['test_corpus'])"
   ]
  },
  {
   "cell_type": "code",
   "execution_count": 69,
   "metadata": {},
   "outputs": [],
   "source": [
    "y_train = imdb_data['y_train']\n",
    "y_test = imdb_data['y_test']"
   ]
  },
  {
   "cell_type": "code",
   "execution_count": 70,
   "metadata": {},
   "outputs": [],
   "source": [
    "from sklearn.naive_bayes import BernoulliNB, MultinomialNB"
   ]
  },
  {
   "cell_type": "code",
   "execution_count": 71,
   "metadata": {},
   "outputs": [],
   "source": [
    "bn = BernoulliNB()\n",
    "mnb = MultinomialNB()\n",
    "lrl2 = LogisticRegression(solver='liblinear', penalty='l2')\n",
    "lrl1 = LogisticRegression(solver='liblinear', penalty='l1')\n",
    "clfs = [bn, mnb, lrl2, lrl1]"
   ]
  },
  {
   "cell_type": "code",
   "execution_count": 72,
   "metadata": {},
   "outputs": [
    {
     "name": "stdout",
     "output_type": "stream",
     "text": [
      "BernoulliNB(alpha=1.0, binarize=0.0, class_prior=None, fit_prior=True)\n",
      "0.88056\n",
      "0.8382\n",
      "\n",
      "MultinomialNB(alpha=1.0, class_prior=None, fit_prior=True)\n",
      "0.88232\n",
      "0.83788\n",
      "\n",
      "LogisticRegression(C=1.0, class_weight=None, dual=False, fit_intercept=True,\n",
      "          intercept_scaling=1, max_iter=100, multi_class='warn',\n",
      "          n_jobs=None, penalty='l2', random_state=None, solver='liblinear',\n",
      "          tol=0.0001, verbose=0, warm_start=False)\n",
      "0.9964\n",
      "0.87208\n",
      "\n",
      "LogisticRegression(C=1.0, class_weight=None, dual=False, fit_intercept=True,\n",
      "          intercept_scaling=1, max_iter=100, multi_class='warn',\n",
      "          n_jobs=None, penalty='l1', random_state=None, solver='liblinear',\n",
      "          tol=0.0001, verbose=0, warm_start=False)\n",
      "0.98124\n",
      "0.87208\n",
      "\n"
     ]
    }
   ],
   "source": [
    "for clf in clfs:\n",
    "    clf.fit(X_train, y_train)\n",
    "    print(clf)\n",
    "    print(clf.score(X_train, y_train))\n",
    "    print(clf.score(X_test, y_test))\n",
    "    print()"
   ]
  },
  {
   "cell_type": "code",
   "execution_count": 73,
   "metadata": {},
   "outputs": [
    {
     "data": {
      "text/plain": [
       "0"
      ]
     },
     "execution_count": 73,
     "metadata": {},
     "output_type": "execute_result"
    }
   ],
   "source": [
    "np.sum(lrl2.coef_[0] == 0)"
   ]
  },
  {
   "cell_type": "code",
   "execution_count": 76,
   "metadata": {},
   "outputs": [
    {
     "data": {
      "text/plain": [
       "14393"
      ]
     },
     "execution_count": 76,
     "metadata": {},
     "output_type": "execute_result"
    }
   ],
   "source": [
    "np.sum(lrl1.coef_[0] == 0)"
   ]
  },
  {
   "cell_type": "code",
   "execution_count": 77,
   "metadata": {},
   "outputs": [
    {
     "name": "stdout",
     "output_type": "stream",
     "text": [
      "7/10 3.3387928497949786\n",
      "4/10 -2.8276824587312053\n",
      "3/10 -2.3654374840886643\n",
      "worst -2.345946543544235\n",
      "waste -2.3232042042130434\n",
      "disappointment -2.13819101425405\n",
      "poorly -2.088487966786549\n",
      "8/10 1.989110066293646\n",
      "1/10 -1.8783738543010715\n",
      "2/10 -1.7232939656567459\n"
     ]
    }
   ],
   "source": [
    "w = lrl2.coef_[0]\n",
    "inds = np.argsort(np.abs(w))[::-1]\n",
    "for i in inds[:10]:\n",
    "    print(feature_names[i], w[i])"
   ]
  },
  {
   "cell_type": "code",
   "execution_count": 78,
   "metadata": {},
   "outputs": [
    {
     "name": "stdout",
     "output_type": "stream",
     "text": [
      "7/10 5.90363131309074\n",
      "4/10 -5.657795869545481\n",
      "wayans -4.85596088053583\n",
      "3/10 -4.086799455041804\n",
      "1/10 -3.5483559909532882\n",
      "thunderbirds -3.5319414056866054\n",
      "8/10 3.510934896218861\n",
      "cafã 3.37804537384522\n",
      "fez 3.3123653246813367\n",
      "poisoning 3.2878247842163137\n"
     ]
    }
   ],
   "source": [
    "w = lrl1.coef_[0]\n",
    "inds = np.argsort(np.abs(w))[::-1]\n",
    "for i in inds[:10]:\n",
    "    print(feature_names[i], w[i])"
   ]
  },
  {
   "cell_type": "code",
   "execution_count": 79,
   "metadata": {
    "scrolled": true
   },
   "outputs": [
    {
     "name": "stdout",
     "output_type": "stream",
     "text": [
      "1.0\n",
      "0.85244\n"
     ]
    }
   ],
   "source": [
    "lrl1 = LogisticRegression(solver='liblinear', penalty='l1', C = 100)\n",
    "lrl1.fit(X_train, y_train)\n",
    "print(lrl1.score(X_train, y_train))\n",
    "print(lrl1.score(X_test, y_test))"
   ]
  },
  {
   "cell_type": "code",
   "execution_count": 80,
   "metadata": {},
   "outputs": [
    {
     "data": {
      "text/plain": [
       "11655"
      ]
     },
     "execution_count": 80,
     "metadata": {},
     "output_type": "execute_result"
    }
   ],
   "source": [
    "np.sum(lrl1.coef_[0] == 0)"
   ]
  },
  {
   "cell_type": "code",
   "execution_count": 81,
   "metadata": {},
   "outputs": [
    {
     "name": "stdout",
     "output_type": "stream",
     "text": [
      "moodiness 16.251108170815915\n",
      "fez 15.880699384741819\n",
      "7/10 15.213080919956013\n",
      "wayans -14.393861828445667\n",
      "4/10 -14.280491162904386\n",
      "cafã 13.657924284642922\n",
      "poisoning 13.221324436438296\n",
      "3/10 -12.871806915800954\n",
      "betsy -12.506221878245247\n",
      "thunderbirds -11.955114902100153\n"
     ]
    }
   ],
   "source": [
    "w = lrl1.coef_[0]\n",
    "inds = np.argsort(np.abs(w))[::-1]\n",
    "for i in inds[:10]:\n",
    "    print(feature_names[i], w[i])"
   ]
  },
  {
   "cell_type": "code",
   "execution_count": 82,
   "metadata": {},
   "outputs": [
    {
     "name": "stdout",
     "output_type": "stream",
     "text": [
      "0.89648\n",
      "0.88032\n"
     ]
    }
   ],
   "source": [
    "lrl1 = LogisticRegression(solver='liblinear', penalty='l1', C = 0.1)\n",
    "lrl1.fit(X_train, y_train)\n",
    "print(lrl1.score(X_train, y_train))\n",
    "print(lrl1.score(X_test, y_test))"
   ]
  },
  {
   "cell_type": "code",
   "execution_count": 83,
   "metadata": {},
   "outputs": [
    {
     "data": {
      "text/plain": [
       "18023"
      ]
     },
     "execution_count": 83,
     "metadata": {},
     "output_type": "execute_result"
    }
   ],
   "source": [
    "np.sum(lrl1.coef_[0] == 0)"
   ]
  },
  {
   "cell_type": "code",
   "execution_count": 84,
   "metadata": {},
   "outputs": [
    {
     "name": "stdout",
     "output_type": "stream",
     "text": [
      "7/10 2.3368929040416697\n",
      "4/10 -2.2223518316520283\n",
      "waste -1.5674134478979955\n",
      "worst -1.5466411825070356\n",
      "8/10 1.3255244362972844\n",
      "3/10 -1.2827471488765334\n",
      "poorly -1.246734852123148\n",
      "awful -1.2410822755052888\n",
      "disappointment -1.1214157363750137\n",
      "dull -1.0597779659746143\n"
     ]
    }
   ],
   "source": [
    "w = lrl1.coef_[0]\n",
    "inds = np.argsort(np.abs(w))[::-1]\n",
    "for i in inds[:10]:\n",
    "    print(feature_names[i], w[i])"
   ]
  },
  {
   "cell_type": "code",
   "execution_count": 85,
   "metadata": {},
   "outputs": [
    {
     "name": "stdout",
     "output_type": "stream",
     "text": [
      "0.81612\n",
      "0.81176\n"
     ]
    }
   ],
   "source": [
    "lrl1 = LogisticRegression(solver='liblinear', penalty='l1', C = 0.01)\n",
    "lrl1.fit(X_train, y_train)\n",
    "print(lrl1.score(X_train, y_train))\n",
    "print(lrl1.score(X_test, y_test))"
   ]
  },
  {
   "cell_type": "code",
   "execution_count": 86,
   "metadata": {},
   "outputs": [
    {
     "data": {
      "text/plain": [
       "18808"
      ]
     },
     "execution_count": 86,
     "metadata": {},
     "output_type": "execute_result"
    }
   ],
   "source": [
    "np.sum(lrl1.coef_[0] == 0)"
   ]
  },
  {
   "cell_type": "code",
   "execution_count": 87,
   "metadata": {},
   "outputs": [
    {
     "name": "stdout",
     "output_type": "stream",
     "text": [
      "worst -1.2887199286229307\n",
      "waste -1.020574096410686\n",
      "awful -0.8921904506608875\n",
      "bad -0.7775186802439411\n",
      "excellent 0.7743122042925867\n",
      "great 0.6652375203197233\n",
      "boring -0.649852949392215\n",
      "poor -0.5698867272174744\n",
      "perfect 0.5472907829331205\n",
      "wonderful 0.5280530560870963\n"
     ]
    }
   ],
   "source": [
    "w = lrl1.coef_[0]\n",
    "inds = np.argsort(np.abs(w))[::-1]\n",
    "for i in inds[:10]:\n",
    "    print(feature_names[i], w[i])"
   ]
  },
  {
   "cell_type": "code",
   "execution_count": 88,
   "metadata": {},
   "outputs": [
    {
     "name": "stdout",
     "output_type": "stream",
     "text": [
      "0.5932\n",
      "0.5976\n"
     ]
    }
   ],
   "source": [
    "lrl1 = LogisticRegression(solver='liblinear', penalty='l1', C = 0.001)\n",
    "lrl1.fit(X_train, y_train)\n",
    "print(lrl1.score(X_train, y_train))\n",
    "print(lrl1.score(X_test, y_test))"
   ]
  },
  {
   "cell_type": "code",
   "execution_count": 89,
   "metadata": {},
   "outputs": [
    {
     "data": {
      "text/plain": [
       "18946"
      ]
     },
     "execution_count": 89,
     "metadata": {},
     "output_type": "execute_result"
    }
   ],
   "source": [
    "np.sum(lrl1.coef_[0] == 0)"
   ]
  },
  {
   "cell_type": "code",
   "execution_count": 90,
   "metadata": {},
   "outputs": [
    {
     "name": "stdout",
     "output_type": "stream",
     "text": [
      "bad -0.3384873408158918\n",
      "great 0.11718740804995677\n",
      "familiarity 0.0\n",
      "false 0.0\n",
      "falsely 0.0\n",
      "falters 0.0\n",
      "fame 0.0\n",
      "famed 0.0\n",
      "familial 0.0\n",
      "familiar 0.0\n"
     ]
    }
   ],
   "source": [
    "w = lrl1.coef_[0]\n",
    "inds = np.argsort(np.abs(w))[::-1]\n",
    "for i in inds[:10]:\n",
    "    print(feature_names[i], w[i])"
   ]
  },
  {
   "cell_type": "code",
   "execution_count": null,
   "metadata": {},
   "outputs": [],
   "source": []
  }
 ],
 "metadata": {
  "kernelspec": {
   "display_name": "Python 3",
   "language": "python",
   "name": "python3"
  },
  "language_info": {
   "codemirror_mode": {
    "name": "ipython",
    "version": 3
   },
   "file_extension": ".py",
   "mimetype": "text/x-python",
   "name": "python",
   "nbconvert_exporter": "python",
   "pygments_lexer": "ipython3",
   "version": "3.5.4"
  }
 },
 "nbformat": 4,
 "nbformat_minor": 2
}
