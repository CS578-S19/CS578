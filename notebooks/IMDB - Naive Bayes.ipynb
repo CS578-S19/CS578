{
 "cells": [
  {
   "cell_type": "code",
   "execution_count": 1,
   "metadata": {},
   "outputs": [],
   "source": [
    "import codecs\n",
    "import pickle\n",
    "from sklearn.feature_extraction.text import CountVectorizer\n",
    "import numpy as np"
   ]
  },
  {
   "cell_type": "code",
   "execution_count": 2,
   "metadata": {},
   "outputs": [],
   "source": [
    "with open(\"data/imdb.pickle.z\", 'rb') as f:\n",
    "    compressed_data = f.read()\n",
    "\n",
    "uncompressed_data = codecs.decode(compressed_data, 'zlib_codec')\n",
    "imdb_data = pickle.loads(uncompressed_data)"
   ]
  },
  {
   "cell_type": "code",
   "execution_count": 3,
   "metadata": {},
   "outputs": [
    {
     "data": {
      "text/plain": [
       "dict_keys(['DESCR', 'test_corpus', 'train_corpus', 'y_test', 'y_train'])"
      ]
     },
     "execution_count": 3,
     "metadata": {},
     "output_type": "execute_result"
    }
   ],
   "source": [
    "imdb_data.keys()"
   ]
  },
  {
   "cell_type": "code",
   "execution_count": 4,
   "metadata": {},
   "outputs": [
    {
     "name": "stdout",
     "output_type": "stream",
     "text": [
      "IMDB reviews dataset. Binary classification (0 = negative, 1 = positive) 25K in train, 25K in test. Data source: http://ai.stanford.edu/~amaas/data/sentiment/\n"
     ]
    }
   ],
   "source": [
    "print(imdb_data['DESCR'])"
   ]
  },
  {
   "cell_type": "code",
   "execution_count": 5,
   "metadata": {},
   "outputs": [
    {
     "name": "stdout",
     "output_type": "stream",
     "text": [
      "I don't know who to blame, the timid writers or the clueless director. It seemed to be one of those movies where so much was paid to the stars (Angie, Charlie, Denise, Rosanna and Jon) that there wasn't enough left to really make a movie. This could have been very entertaining, but there was a veil of timidity, even cowardice, that hung over each scene. Since it got an R rating anyway why was the ubiquitous bubble bath scene shot with a 70-year-old woman and not Angie Harmon? Why does Sheen sleepwalk through potentially hot relationships WITH TWO OF THE MOST BEAUTIFUL AND SEXY ACTRESSES in the world? If they were only looking for laughs why not cast Whoopi Goldberg and Judy Tenuta instead? This was so predictable I was surprised to find that the director wasn't a five year old. What a waste, not just for the viewers but for the actors as well.\n"
     ]
    }
   ],
   "source": [
    "print(imdb_data['train_corpus'][7])"
   ]
  },
  {
   "cell_type": "code",
   "execution_count": 6,
   "metadata": {},
   "outputs": [],
   "source": [
    "tp = r\"(?u)\\b[\\w\\'/]+\\b\"\n",
    "vect = CountVectorizer(token_pattern=tp, lowercase=True, ngram_range=(1, 1), min_df=5, binary=True)"
   ]
  },
  {
   "cell_type": "code",
   "execution_count": 7,
   "metadata": {},
   "outputs": [],
   "source": [
    "X_train = vect.fit_transform(imdb_data['train_corpus'])"
   ]
  },
  {
   "cell_type": "code",
   "execution_count": 8,
   "metadata": {
    "scrolled": true
   },
   "outputs": [
    {
     "data": {
      "text/plain": [
       "(25000, 28283)"
      ]
     },
     "execution_count": 8,
     "metadata": {},
     "output_type": "execute_result"
    }
   ],
   "source": [
    "X_train.shape"
   ]
  },
  {
   "cell_type": "code",
   "execution_count": 13,
   "metadata": {},
   "outputs": [],
   "source": [
    "feature_names = np.asarray(vect.get_feature_names())"
   ]
  },
  {
   "cell_type": "code",
   "execution_count": 17,
   "metadata": {},
   "outputs": [],
   "source": [
    "X_test = vect.transform(imdb_data['test_corpus'])"
   ]
  },
  {
   "cell_type": "code",
   "execution_count": 18,
   "metadata": {},
   "outputs": [],
   "source": [
    "y_train = imdb_data['y_train']\n",
    "y_test = imdb_data['y_test']"
   ]
  },
  {
   "cell_type": "code",
   "execution_count": 19,
   "metadata": {},
   "outputs": [],
   "source": [
    "from sklearn.feature_selection import mutual_info_classif"
   ]
  },
  {
   "cell_type": "code",
   "execution_count": 21,
   "metadata": {},
   "outputs": [],
   "source": [
    "mis = mutual_info_classif(X_train, y_train, discrete_features=True)"
   ]
  },
  {
   "cell_type": "code",
   "execution_count": 23,
   "metadata": {},
   "outputs": [
    {
     "name": "stdout",
     "output_type": "stream",
     "text": [
      "bad \t 0.039\n",
      "worst \t 0.036\n",
      "waste \t 0.024\n",
      "awful \t 0.022\n",
      "great \t 0.020\n",
      "excellent \t 0.015\n",
      "terrible \t 0.014\n",
      "worse \t 0.013\n",
      "stupid \t 0.013\n",
      "wonderful \t 0.013\n",
      "boring \t 0.012\n",
      "no \t 0.011\n",
      "horrible \t 0.011\n",
      "nothing \t 0.011\n",
      "poor \t 0.010\n",
      "best \t 0.010\n",
      "crap \t 0.010\n",
      "minutes \t 0.009\n",
      "perfect \t 0.009\n",
      "poorly \t 0.009\n"
     ]
    }
   ],
   "source": [
    "inds = np.argsort(mis)[::-1]\n",
    "\n",
    "for i in inds[:20]:\n",
    "    print(\"%s \\t %0.3f\" %(feature_names[i], mis[i]))"
   ]
  },
  {
   "cell_type": "code",
   "execution_count": 24,
   "metadata": {},
   "outputs": [],
   "source": [
    "from sklearn.naive_bayes import BernoulliNB"
   ]
  },
  {
   "cell_type": "code",
   "execution_count": 25,
   "metadata": {},
   "outputs": [],
   "source": [
    "clf = BernoulliNB()"
   ]
  },
  {
   "cell_type": "code",
   "execution_count": 26,
   "metadata": {},
   "outputs": [
    {
     "data": {
      "text/plain": [
       "BernoulliNB(alpha=1.0, binarize=0.0, class_prior=None, fit_prior=True)"
      ]
     },
     "execution_count": 26,
     "metadata": {},
     "output_type": "execute_result"
    }
   ],
   "source": [
    "clf.fit(X_train, y_train)"
   ]
  },
  {
   "cell_type": "code",
   "execution_count": 27,
   "metadata": {},
   "outputs": [
    {
     "data": {
      "text/plain": [
       "0.8328"
      ]
     },
     "execution_count": 27,
     "metadata": {},
     "output_type": "execute_result"
    }
   ],
   "source": [
    "clf.score(X_test, y_test)"
   ]
  },
  {
   "cell_type": "code",
   "execution_count": 28,
   "metadata": {},
   "outputs": [
    {
     "data": {
      "text/plain": [
       "array([[-4.66295929, -5.52162091, -5.58349631, ..., -3.62250292,\n",
       "        -7.13105882, -6.86869455],\n",
       "       [-5.822726  , -9.43364391, -5.93713635, ..., -3.66532291,\n",
       "        -7.824206  , -5.69597429]])"
      ]
     },
     "execution_count": 28,
     "metadata": {},
     "output_type": "execute_result"
    }
   ],
   "source": [
    "clf.feature_log_prob_"
   ]
  },
  {
   "cell_type": "code",
   "execution_count": 29,
   "metadata": {},
   "outputs": [],
   "source": [
    "tw = clf.feature_log_prob_[0] - clf.feature_log_prob_[1]"
   ]
  },
  {
   "cell_type": "code",
   "execution_count": 30,
   "metadata": {},
   "outputs": [],
   "source": [
    "inds = np.argsort(tw)"
   ]
  },
  {
   "cell_type": "code",
   "execution_count": 31,
   "metadata": {},
   "outputs": [
    {
     "name": "stdout",
     "output_type": "stream",
     "text": [
      "edie -3.713572066704308\n",
      "7/10 -3.316780039849572\n",
      "mcintire -3.218875824868201\n",
      "din -3.218875824868201\n",
      "gunga -3.1780538303479453\n",
      "tsui -3.1780538303479453\n",
      "antwone -3.1780538303479453\n",
      "8/10 -3.0633909220278053\n",
      "quibble -3.0445224377234226\n",
      "sabu -3.0445224377234226\n"
     ]
    }
   ],
   "source": [
    "for i in inds[:10]:\n",
    "    print(feature_names[i], tw[i])"
   ]
  },
  {
   "cell_type": "code",
   "execution_count": 33,
   "metadata": {},
   "outputs": [
    {
     "name": "stdout",
     "output_type": "stream",
     "text": [
      "183 2/10 4.102643365036796\n",
      "1 0/10 3.9120230054281464\n",
      "248 4/10 3.5263605246161616\n",
      "223 3/10 3.508555899982655\n",
      "26789 uwe 3.349904087274605\n",
      "15488 manos 3.3322045101752042\n",
      "2992 boll 3.3322045101752042\n",
      "12040 hobgoblins 3.1354942159291497\n",
      "13906 kareena 3.091042453358316\n",
      "23041 slater 3.091042453358316\n"
     ]
    }
   ],
   "source": [
    "for i in inds[::-1][:10]:\n",
    "    print(i, feature_names[i], tw[i])"
   ]
  },
  {
   "cell_type": "code",
   "execution_count": 38,
   "metadata": {},
   "outputs": [
    {
     "data": {
      "text/plain": [
       "(28283,)"
      ]
     },
     "execution_count": 38,
     "metadata": {},
     "output_type": "execute_result"
    }
   ],
   "source": [
    "freq = np.sum(X_train, axis=0)\n",
    "freq.A1.shape"
   ]
  },
  {
   "cell_type": "code",
   "execution_count": 39,
   "metadata": {},
   "outputs": [],
   "source": [
    "freq = freq.A1"
   ]
  },
  {
   "cell_type": "code",
   "execution_count": 40,
   "metadata": {},
   "outputs": [
    {
     "data": {
      "text/plain": [
       "57"
      ]
     },
     "execution_count": 40,
     "metadata": {},
     "output_type": "execute_result"
    }
   ],
   "source": [
    "freq[26789]"
   ]
  },
  {
   "cell_type": "code",
   "execution_count": 43,
   "metadata": {},
   "outputs": [
    {
     "data": {
      "text/plain": [
       "56.0"
      ]
     },
     "execution_count": 43,
     "metadata": {},
     "output_type": "execute_result"
    }
   ],
   "source": [
    "clf.feature_count_[0][26789]"
   ]
  },
  {
   "cell_type": "code",
   "execution_count": 44,
   "metadata": {},
   "outputs": [
    {
     "data": {
      "text/plain": [
       "1.0"
      ]
     },
     "execution_count": 44,
     "metadata": {},
     "output_type": "execute_result"
    }
   ],
   "source": [
    "clf.feature_count_[1][26789]"
   ]
  },
  {
   "cell_type": "code",
   "execution_count": 45,
   "metadata": {},
   "outputs": [
    {
     "data": {
      "text/plain": [
       "array([12500., 12500.])"
      ]
     },
     "execution_count": 45,
     "metadata": {},
     "output_type": "execute_result"
    }
   ],
   "source": [
    "clf.class_count_"
   ]
  },
  {
   "cell_type": "code",
   "execution_count": 46,
   "metadata": {},
   "outputs": [
    {
     "data": {
      "text/plain": [
       "3.349904087274605"
      ]
     },
     "execution_count": 46,
     "metadata": {},
     "output_type": "execute_result"
    }
   ],
   "source": [
    "np.log(57/2)"
   ]
  },
  {
   "cell_type": "code",
   "execution_count": 47,
   "metadata": {},
   "outputs": [
    {
     "data": {
      "text/plain": [
       "3.349904087274605"
      ]
     },
     "execution_count": 47,
     "metadata": {},
     "output_type": "execute_result"
    }
   ],
   "source": [
    "tw[26789]"
   ]
  },
  {
   "cell_type": "code",
   "execution_count": 49,
   "metadata": {},
   "outputs": [
    {
     "data": {
      "text/plain": [
       "-0.004409708488700152"
      ]
     },
     "execution_count": 49,
     "metadata": {},
     "output_type": "execute_result"
    }
   ],
   "source": [
    "fw[26789]"
   ]
  },
  {
   "cell_type": "code",
   "execution_count": 50,
   "metadata": {},
   "outputs": [
    {
     "data": {
      "text/plain": [
       "37"
      ]
     },
     "execution_count": 50,
     "metadata": {},
     "output_type": "execute_result"
    }
   ],
   "source": [
    "test_freq = np.sum(X_test, axis=0)\n",
    "test_freq = test_freq.A1\n",
    "test_freq[26789]"
   ]
  },
  {
   "cell_type": "code",
   "execution_count": 51,
   "metadata": {},
   "outputs": [],
   "source": [
    "f_flp = np.log(1 - np.exp(clf.feature_log_prob_))\n",
    "fw = f_flp[0] - f_flp[1]"
   ]
  },
  {
   "cell_type": "code",
   "execution_count": 52,
   "metadata": {},
   "outputs": [],
   "source": [
    "inds = np.argsort(fw)"
   ]
  },
  {
   "cell_type": "code",
   "execution_count": 53,
   "metadata": {},
   "outputs": [
    {
     "name": "stdout",
     "output_type": "stream",
     "text": [
      "this -0.3864571440629736\n",
      "bad -0.3067256092399112\n",
      "to -0.30489420133288414\n",
      "the -0.2988553730499781\n",
      "i -0.26543646350446326\n",
      "movie -0.25638760989336107\n",
      "no -0.21106827640831793\n",
      "was -0.20910609163862004\n",
      "just -0.18518968825741583\n",
      "even -0.1769056828209219\n"
     ]
    }
   ],
   "source": [
    "for i in inds[:10]:\n",
    "    print(feature_names[i], fw[i])"
   ]
  },
  {
   "cell_type": "code",
   "execution_count": 54,
   "metadata": {},
   "outputs": [
    {
     "name": "stdout",
     "output_type": "stream",
     "text": [
      "and 0.32179606614928247\n",
      "great 0.22945363222121803\n",
      "is 0.2088301632951297\n",
      "as 0.15477796683162204\n",
      "best 0.1414586899087999\n",
      "very 0.13517175912206814\n",
      "well 0.1272317971276138\n",
      "also 0.12473679462096474\n",
      "love 0.11913853194103155\n",
      "his 0.1132547508867996\n"
     ]
    }
   ],
   "source": [
    "for i in inds[::-1][:10]:\n",
    "    print(feature_names[i], fw[i])"
   ]
  },
  {
   "cell_type": "code",
   "execution_count": 56,
   "metadata": {},
   "outputs": [
    {
     "data": {
      "text/plain": [
       "0.0"
      ]
     },
     "execution_count": 56,
     "metadata": {},
     "output_type": "execute_result"
    }
   ],
   "source": [
    "b = clf.class_log_prior_[0] - clf.class_log_prior_[1]\n",
    "b"
   ]
  },
  {
   "cell_type": "markdown",
   "metadata": {},
   "source": [
    "## Empty Document"
   ]
  },
  {
   "cell_type": "code",
   "execution_count": 58,
   "metadata": {},
   "outputs": [
    {
     "data": {
      "text/plain": [
       "-1.501305882003622"
      ]
     },
     "execution_count": 58,
     "metadata": {},
     "output_type": "execute_result"
    }
   ],
   "source": [
    "lr = b + np.sum(fw)\n",
    "lr"
   ]
  },
  {
   "cell_type": "code",
   "execution_count": 59,
   "metadata": {},
   "outputs": [
    {
     "data": {
      "text/plain": [
       "0.18223083690589836"
      ]
     },
     "execution_count": 59,
     "metadata": {},
     "output_type": "execute_result"
    }
   ],
   "source": [
    "np.exp(lr) / (1+np.exp(lr))"
   ]
  },
  {
   "cell_type": "code",
   "execution_count": 66,
   "metadata": {},
   "outputs": [],
   "source": [
    "empty_doc = ['']\n",
    "x_empty_doc = vect.transform(empty_doc)"
   ]
  },
  {
   "cell_type": "code",
   "execution_count": 67,
   "metadata": {},
   "outputs": [
    {
     "data": {
      "text/plain": [
       "array([[0.18223084, 0.81776916]])"
      ]
     },
     "execution_count": 67,
     "metadata": {},
     "output_type": "execute_result"
    }
   ],
   "source": [
    "clf.predict_proba(x_empty_doc)"
   ]
  },
  {
   "cell_type": "markdown",
   "metadata": {},
   "source": [
    "## Increase min_df"
   ]
  },
  {
   "cell_type": "code",
   "execution_count": 68,
   "metadata": {},
   "outputs": [],
   "source": [
    "tp = r\"(?u)\\b[\\w\\'/]+\\b\"\n",
    "vect = CountVectorizer(token_pattern=tp, lowercase=True, ngram_range=(1, 1), min_df=100, binary=True)"
   ]
  },
  {
   "cell_type": "code",
   "execution_count": 69,
   "metadata": {},
   "outputs": [],
   "source": [
    "X_train = vect.fit_transform(imdb_data['train_corpus'])\n",
    "X_test = vect.transform(imdb_data['test_corpus'])\n",
    "feature_names = np.asarray(vect.get_feature_names())"
   ]
  },
  {
   "cell_type": "code",
   "execution_count": 70,
   "metadata": {},
   "outputs": [
    {
     "data": {
      "text/plain": [
       "(25000, 3898)"
      ]
     },
     "execution_count": 70,
     "metadata": {},
     "output_type": "execute_result"
    }
   ],
   "source": [
    "X_train.shape"
   ]
  },
  {
   "cell_type": "code",
   "execution_count": 71,
   "metadata": {},
   "outputs": [
    {
     "data": {
      "text/plain": [
       "BernoulliNB(alpha=1.0, binarize=0.0, class_prior=None, fit_prior=True)"
      ]
     },
     "execution_count": 71,
     "metadata": {},
     "output_type": "execute_result"
    }
   ],
   "source": [
    "clf.fit(X_train, y_train)"
   ]
  },
  {
   "cell_type": "code",
   "execution_count": 72,
   "metadata": {},
   "outputs": [
    {
     "data": {
      "text/plain": [
       "0.84524"
      ]
     },
     "execution_count": 72,
     "metadata": {},
     "output_type": "execute_result"
    }
   ],
   "source": [
    "clf.score(X_test, y_test)"
   ]
  },
  {
   "cell_type": "code",
   "execution_count": 73,
   "metadata": {},
   "outputs": [],
   "source": [
    "tw = clf.feature_log_prob_[0] - clf.feature_log_prob_[1]\n",
    "inds = np.argsort(tw)"
   ]
  },
  {
   "cell_type": "code",
   "execution_count": 74,
   "metadata": {},
   "outputs": [
    {
     "name": "stdout",
     "output_type": "stream",
     "text": [
      "50 7/10 -3.316780039849572\n",
      "54 8/10 -3.0633909220278053\n",
      "59 9/10 -2.6741486494265283\n",
      "6 10/10 -2.5320245727650708\n",
      "1359 flawless -2.4336133554004498\n",
      "3332 superbly -2.3116349285139632\n",
      "2501 perfection -2.181224235989778\n",
      "538 captures -2.0204432009178808\n",
      "3835 wonderfully -2.0130995935431146\n",
      "2774 refreshing -1.8951950564762976\n"
     ]
    }
   ],
   "source": [
    "for i in inds[:10]:\n",
    "    print(i, feature_names[i], tw[i])"
   ]
  },
  {
   "cell_type": "code",
   "execution_count": 75,
   "metadata": {},
   "outputs": [
    {
     "name": "stdout",
     "output_type": "stream",
     "text": [
      "23 2/10 4.102643365036796\n",
      "39 4/10 3.5263605246161616\n",
      "36 3/10 3.508555899982655\n",
      "3242 stinker 2.9856819377004893\n",
      "3646 unwatchable 2.9856819377004893\n",
      "1763 incoherent 2.9061201148643034\n",
      "3 1/10 2.8200552594787043\n",
      "2266 mst3k 2.7269186854065923\n",
      "3626 unfunny 2.6164830075767194\n",
      "3740 waste 2.5323731870269244\n"
     ]
    }
   ],
   "source": [
    "for i in inds[::-1][:10]:\n",
    "    print(i, feature_names[i], tw[i])"
   ]
  },
  {
   "cell_type": "code",
   "execution_count": 77,
   "metadata": {},
   "outputs": [],
   "source": [
    "f_flp = np.log(1 - np.exp(clf.feature_log_prob_))\n",
    "fw = f_flp[0] - f_flp[1]\n",
    "inds = np.argsort(fw)"
   ]
  },
  {
   "cell_type": "code",
   "execution_count": 78,
   "metadata": {},
   "outputs": [
    {
     "name": "stdout",
     "output_type": "stream",
     "text": [
      "3465 this 0.0398445002541834\n",
      "318 bad 1.0810442692719002\n",
      "3506 to 0.019679469704074748\n",
      "3434 the 0.00250050543677105\n",
      "1717 i 0.07902676054863811\n",
      "2259 movie 0.1637615471528644\n",
      "2332 no 0.4371426562149239\n",
      "3737 was 0.11408757773529388\n",
      "1896 just 0.25410577691817693\n",
      "1168 even 0.3510252113966139\n"
     ]
    }
   ],
   "source": [
    "for i in inds[:10]:\n",
    "    print(i, feature_names[i], tw[i])"
   ]
  },
  {
   "cell_type": "code",
   "execution_count": 79,
   "metadata": {},
   "outputs": [
    {
     "name": "stdout",
     "output_type": "stream",
     "text": [
      "192 and -0.011090992684172463\n",
      "1525 great -0.7040970638295319\n",
      "1836 is -0.023899835627466004\n",
      "263 as -0.08515251986732686\n",
      "385 best -0.5974627223168865\n",
      "3678 very -0.25547316908216366\n",
      "3773 well -0.29690444184241827\n",
      "172 also -0.36141304177351596\n",
      "2073 love -0.5642988095268091\n",
      "1651 his -0.15235175289500624\n"
     ]
    }
   ],
   "source": [
    "for i in inds[::-1][:10]:\n",
    "    print(i, feature_names[i], tw[i])"
   ]
  },
  {
   "cell_type": "code",
   "execution_count": 80,
   "metadata": {},
   "outputs": [
    {
     "data": {
      "text/plain": [
       "-4.070899985689966"
      ]
     },
     "execution_count": 80,
     "metadata": {},
     "output_type": "execute_result"
    }
   ],
   "source": [
    "lr = b + np.sum(fw)\n",
    "lr"
   ]
  },
  {
   "cell_type": "code",
   "execution_count": 81,
   "metadata": {},
   "outputs": [
    {
     "data": {
      "text/plain": [
       "0.01677579693254762"
      ]
     },
     "execution_count": 81,
     "metadata": {},
     "output_type": "execute_result"
    }
   ],
   "source": [
    "np.exp(lr) / (1+np.exp(lr))"
   ]
  },
  {
   "cell_type": "code",
   "execution_count": null,
   "metadata": {},
   "outputs": [],
   "source": []
  }
 ],
 "metadata": {
  "kernelspec": {
   "display_name": "Python 3",
   "language": "python",
   "name": "python3"
  },
  "language_info": {
   "codemirror_mode": {
    "name": "ipython",
    "version": 3
   },
   "file_extension": ".py",
   "mimetype": "text/x-python",
   "name": "python",
   "nbconvert_exporter": "python",
   "pygments_lexer": "ipython3",
   "version": "3.5.4"
  }
 },
 "nbformat": 4,
 "nbformat_minor": 2
}
