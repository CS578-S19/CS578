{
 "cells": [
  {
   "cell_type": "markdown",
   "metadata": {},
   "source": [
    "# Word Color and Size for Transparency\n",
    "\n",
    "**Note:** The displayed document will not show on GitHub. Try viewing it either through running your Jupyter Notebook or through https://nbviewer.jupyter.org/."
   ]
  },
  {
   "cell_type": "code",
   "execution_count": 1,
   "metadata": {},
   "outputs": [],
   "source": [
    "import codecs\n",
    "import pickle\n",
    "from sklearn.feature_extraction.text import CountVectorizer\n",
    "import numpy as np\n",
    "import matplotlib.pylab as plt\n",
    "from IPython.core import display\n",
    "import re"
   ]
  },
  {
   "cell_type": "code",
   "execution_count": 2,
   "metadata": {},
   "outputs": [],
   "source": [
    "with open(\"data/imdb.pickle.z\", 'rb') as f:\n",
    "    compressed_data = f.read()\n",
    "\n",
    "uncompressed_data = codecs.decode(compressed_data, 'zlib_codec')\n",
    "imdb_data = pickle.loads(uncompressed_data)"
   ]
  },
  {
   "cell_type": "code",
   "execution_count": 3,
   "metadata": {},
   "outputs": [
    {
     "data": {
      "text/plain": [
       "dict_keys(['y_test', 'train_corpus', 'test_corpus', 'y_train', 'DESCR'])"
      ]
     },
     "execution_count": 3,
     "metadata": {},
     "output_type": "execute_result"
    }
   ],
   "source": [
    "imdb_data.keys()"
   ]
  },
  {
   "cell_type": "code",
   "execution_count": 4,
   "metadata": {},
   "outputs": [],
   "source": [
    "tp = r\"(?u)\\b[\\w\\'/]+\\b\"\n",
    "vect = CountVectorizer(token_pattern=tp, lowercase=True, ngram_range=(1, 1), min_df=100, max_df=0.7, binary=True)"
   ]
  },
  {
   "cell_type": "code",
   "execution_count": 5,
   "metadata": {},
   "outputs": [],
   "source": [
    "X_train = vect.fit_transform(imdb_data['train_corpus'])"
   ]
  },
  {
   "cell_type": "code",
   "execution_count": 6,
   "metadata": {
    "scrolled": true
   },
   "outputs": [
    {
     "data": {
      "text/plain": [
       "(25000, 3885)"
      ]
     },
     "execution_count": 6,
     "metadata": {},
     "output_type": "execute_result"
    }
   ],
   "source": [
    "X_train.shape"
   ]
  },
  {
   "cell_type": "code",
   "execution_count": 7,
   "metadata": {},
   "outputs": [],
   "source": [
    "feature_names = np.asarray(vect.get_feature_names())"
   ]
  },
  {
   "cell_type": "code",
   "execution_count": 8,
   "metadata": {},
   "outputs": [],
   "source": [
    "X_test = vect.transform(imdb_data['test_corpus'])"
   ]
  },
  {
   "cell_type": "code",
   "execution_count": 9,
   "metadata": {},
   "outputs": [],
   "source": [
    "y_train = imdb_data['y_train']\n",
    "y_test = imdb_data['y_test']"
   ]
  },
  {
   "cell_type": "code",
   "execution_count": 10,
   "metadata": {},
   "outputs": [],
   "source": [
    "from sklearn.naive_bayes import BernoulliNB"
   ]
  },
  {
   "cell_type": "code",
   "execution_count": 11,
   "metadata": {},
   "outputs": [],
   "source": [
    "clf = BernoulliNB()"
   ]
  },
  {
   "cell_type": "code",
   "execution_count": 12,
   "metadata": {},
   "outputs": [
    {
     "data": {
      "text/plain": [
       "BernoulliNB(alpha=1.0, binarize=0.0, class_prior=None, fit_prior=True)"
      ]
     },
     "execution_count": 12,
     "metadata": {},
     "output_type": "execute_result"
    }
   ],
   "source": [
    "clf.fit(X_train, y_train)"
   ]
  },
  {
   "cell_type": "code",
   "execution_count": 13,
   "metadata": {},
   "outputs": [
    {
     "data": {
      "text/plain": [
       "0.84764"
      ]
     },
     "execution_count": 13,
     "metadata": {},
     "output_type": "execute_result"
    }
   ],
   "source": [
    "clf.score(X_test, y_test)"
   ]
  },
  {
   "cell_type": "code",
   "execution_count": 17,
   "metadata": {},
   "outputs": [],
   "source": [
    "tw = clf.feature_log_prob_[1] - clf.feature_log_prob_[0]"
   ]
  },
  {
   "cell_type": "code",
   "execution_count": 18,
   "metadata": {},
   "outputs": [],
   "source": [
    "inds = np.argsort(tw)"
   ]
  },
  {
   "cell_type": "code",
   "execution_count": 19,
   "metadata": {},
   "outputs": [
    {
     "name": "stdout",
     "output_type": "stream",
     "text": [
      "2/10 -4.102643365036796\n",
      "4/10 -3.5263605246161616\n",
      "3/10 -3.508555899982655\n",
      "unwatchable -2.9856819377004893\n",
      "stinker -2.9856819377004893\n",
      "incoherent -2.9061201148643034\n",
      "1/10 -2.8200552594787043\n",
      "mst3k -2.7269186854065923\n",
      "unfunny -2.6164830075767194\n",
      "waste -2.5323731870269244\n"
     ]
    }
   ],
   "source": [
    "for i in inds[:10]:\n",
    "    print(feature_names[i], tw[i])"
   ]
  },
  {
   "cell_type": "code",
   "execution_count": 20,
   "metadata": {},
   "outputs": [
    {
     "name": "stdout",
     "output_type": "stream",
     "text": [
      "7/10 3.316780039849572\n",
      "8/10 3.0633909220278053\n",
      "9/10 2.6741486494265283\n",
      "10/10 2.5320245727650708\n",
      "flawless 2.4336133554004498\n",
      "superbly 2.3116349285139632\n",
      "perfection 2.181224235989778\n",
      "captures 2.0204432009178808\n",
      "wonderfully 2.0130995935431146\n",
      "refreshing 1.8951950564762976\n"
     ]
    }
   ],
   "source": [
    "for i in inds[::-1][:10]:\n",
    "    print(feature_names[i], tw[i])"
   ]
  },
  {
   "cell_type": "code",
   "execution_count": 21,
   "metadata": {},
   "outputs": [],
   "source": [
    "def doc2html(doc_raw, w, vocabulary, tokenizer, size_ranges):\n",
    "    html_rep = \"\"\n",
    "    tokens = doc_raw.split(\" \") \n",
    "    seen_tokens = set()\n",
    "    for token in tokens:\n",
    "        vocab_tokens = tokenizer.findall(token.lower())\n",
    "        if len(vocab_tokens) > 0:\n",
    "            vocab_token = vocab_tokens[0]\n",
    "            if vocab_token in vocabulary:\n",
    "                vocab_index = vocabulary[vocab_token]\n",
    "                \n",
    "                ws = \"(%0.2f)\" %w[vocab_index]\n",
    "                #print(ws)\n",
    "\n",
    "                if vocab_index not in seen_tokens:\n",
    "\n",
    "                    if w[vocab_index] > 0: # positive word\n",
    "                        s = np.sum(w[vocab_index] > size_ranges)\n",
    "                        html_rep = html_rep + \"<font size = \" + str(s) + \", color=blue> \" + token + ws + \" </font>\"\n",
    "\n",
    "                    elif w[vocab_index] < 0: # negative word\n",
    "                        s = np.sum(np.abs(w[vocab_index]) > size_ranges)\n",
    "                        html_rep = html_rep + \"<font size = \" + str(s) + \", color=red> \" + token + ws + \" </font>\"\n",
    "\n",
    "                    else: # neutral word\n",
    "                        html_rep = html_rep + \"<font size = 1, color=black> \" + token + \" </font>\"\n",
    "\n",
    "                    seen_tokens.add(vocab_index)\n",
    "\n",
    "                else: # if this is a token we have seen before\n",
    "                    html_rep = html_rep + \"<font size = 1, color=black> \" + token + \" </font>\"\n",
    "            else: # this token does not exist in the vocabulary\n",
    "                html_rep = html_rep + \"<font size = 1, color=gray> \" + token + \" </font>\"\n",
    "        else:\n",
    "            html_rep = html_rep + \"<font size = 1, color=gray> \" + token + \" </font>\"\n",
    "    return html_rep"
   ]
  },
  {
   "cell_type": "code",
   "execution_count": 22,
   "metadata": {},
   "outputs": [],
   "source": [
    "tokenizer = re.compile(tp)"
   ]
  },
  {
   "cell_type": "code",
   "execution_count": 23,
   "metadata": {},
   "outputs": [
    {
     "data": {
      "text/plain": [
       "(array([2.452e+03, 9.710e+02, 3.020e+02, 9.000e+01, 4.100e+01, 1.500e+01,\n",
       "        6.000e+00, 4.000e+00, 3.000e+00, 1.000e+00]),\n",
       " array([0.        , 0.41026434, 0.82052867, 1.23079301, 1.64105735,\n",
       "        2.05132168, 2.46158602, 2.87185036, 3.28211469, 3.69237903,\n",
       "        4.10264337]),\n",
       " <a list of 10 Patch objects>)"
      ]
     },
     "execution_count": 23,
     "metadata": {},
     "output_type": "execute_result"
    },
    {
     "data": {
      "image/png": "[encoded data removed]",
      "text/plain": [
       "<Figure size 432x288 with 1 Axes>"
      ]
     },
     "metadata": {},
     "output_type": "display_data"
    }
   ],
   "source": [
    "plt.hist(np.abs(tw))"
   ]
  },
  {
   "cell_type": "code",
   "execution_count": 24,
   "metadata": {},
   "outputs": [],
   "source": [
    "#size_ranges = np.linspace(0, max([abs(tw.min()), abs(tw.max())]), 10)\n",
    "size_ranges = np.linspace(0, 1.5, 8)"
   ]
  },
  {
   "cell_type": "code",
   "execution_count": 25,
   "metadata": {},
   "outputs": [
    {
     "data": {
      "text/plain": [
       "array([0.        , 0.21428571, 0.42857143, 0.64285714, 0.85714286,\n",
       "       1.07142857, 1.28571429, 1.5       ])"
      ]
     },
     "execution_count": 25,
     "metadata": {},
     "output_type": "execute_result"
    }
   ],
   "source": [
    "size_ranges"
   ]
  },
  {
   "cell_type": "code",
   "execution_count": 26,
   "metadata": {},
   "outputs": [],
   "source": [
    "train_corp = imdb_data['train_corpus']"
   ]
  },
  {
   "cell_type": "code",
   "execution_count": 29,
   "metadata": {
    "scrolled": true
   },
   "outputs": [
    {
     "data": {
      "text/html": [
       "<font size = 1, color=gray> Airport </font><font size = 1, color=gray> '77 </font><font size = 2, color=red> starts(-0.24) </font><font size = 1, color=blue> as(0.09) </font><font size = 1, color=gray> a </font><font size = 1, color=red> brand(-0.21) </font><font size = 2, color=blue> new(0.26) </font><font size = 1, color=gray> luxury </font><font size = 1, color=gray> 747 </font><font size = 1, color=red> plane(-0.06) </font><font size = 1, color=gray> is </font><font size = 1, color=gray> loaded </font><font size = 1, color=red> up(-0.09) </font><font size = 1, color=blue> with(0.02) </font><font size = 1, color=gray> valuable </font><font size = 1, color=gray> paintings </font><font size = 1, color=gray> & </font><font size = 1, color=red> such(-0.01) </font><font size = 1, color=gray> belonging </font><font size = 1, color=gray> to </font><font size = 2, color=blue> rich(0.30) </font><font size = 1, color=gray> businessman </font><font size = 4, color=blue> Philip(0.66) </font><font size = 1, color=gray> Stevens </font><font size = 3, color=blue> (James(0.53) </font><font size = 6, color=blue> Stewart)(1.21) </font><font size = 1, color=blue> who(0.08) </font><font size = 1, color=gray> is </font><font size = 1, color=blue> flying(0.13) </font><font size = 1, color=red> them(-0.08) </font><font size = 1, color=gray> & </font><font size = 1, color=gray> a </font><font size = 5, color=red> bunch(-0.92) </font><font size = 1, color=gray> of </font><font size = 1, color=gray> VIP's </font><font size = 1, color=gray> to </font><font size = 1, color=blue> his(0.15) </font><font size = 1, color=red> estate(-0.07) </font><font size = 1, color=gray> in </font><font size = 1, color=gray> preparation </font><font size = 1, color=gray> of </font><font size = 1, color=gray> it </font><font size = 1, color=red> being(-0.05) </font><font size = 1, color=red> opened(-0.05) </font><font size = 1, color=gray> to </font><font size = 1, color=gray> the </font><font size = 1, color=blue> public(0.02) </font><font size = 1, color=black> as </font><font size = 1, color=gray> a </font><font size = 1, color=gray> museum, </font><font size = 2, color=blue> also(0.36) </font><font size = 1, color=red> on(-0.04) </font><font size = 1, color=red> board(-0.04) </font><font size = 1, color=gray> is </font><font size = 1, color=gray> Stevens </font><font size = 1, color=blue> daughter(0.03) </font><font size = 3, color=blue> Julie(0.59) </font><font size = 1, color=gray> (Kathleen </font><font size = 1, color=gray> Quinlan) </font><font size = 1, color=gray> & </font><font size = 1, color=blue> her(0.11) </font><font size = 2, color=blue> son.(0.31) </font><font size = 1, color=gray> The </font><font size = 1, color=gray> luxury </font><font size = 1, color=gray> jetliner </font><font size = 2, color=blue> takes(0.27) </font><font size = 2, color=red> off(-0.30) </font><font size = 1, color=black> as </font><font size = 1, color=gray> planned </font><font size = 1, color=gray> but </font><font size = 1, color=blue> mid-air(0.19) </font><font size = 1, color=gray> the </font><font size = 1, color=black> plane </font><font size = 1, color=gray> is </font><font size = 1, color=gray> hi-jacked </font><font size = 1, color=blue> by(0.04) </font><font size = 1, color=gray> the </font><font size = 1, color=red> co-pilot(-0.04) </font><font size = 1, color=gray> Chambers </font><font size = 3, color=blue> (Robert(0.45) </font><font size = 1, color=gray> Foxworth) </font><font size = 1, color=gray> & </font><font size = 1, color=black> his </font><font size = 1, color=blue> two(0.11) </font><font size = 1, color=gray> accomplice's </font><font size = 1, color=gray> Banker </font><font size = 1, color=gray> (Monte </font><font size = 1, color=gray> Markham) </font><font size = 1, color=gray> & </font><font size = 2, color=blue> Wilson(0.32) </font><font size = 2, color=blue> (Michael(0.24) </font><font size = 1, color=gray> Pataki) </font><font size = 1, color=black> who </font><font size = 2, color=red> knock(-0.32) </font><font size = 1, color=gray> the </font><font size = 1, color=gray> passengers </font><font size = 1, color=gray> & </font><font size = 1, color=red> crew(-0.04) </font><font size = 1, color=red> out(-0.07) </font><font size = 1, color=black> with </font><font size = 2, color=red> sleeping(-0.27) </font><font size = 1, color=red> gas,(-0.05) </font><font size = 1, color=red> they(-0.19) </font><font size = 1, color=red> plan(-0.18) </font><font size = 1, color=gray> to </font><font size = 1, color=red> steal(-0.11) </font><font size = 1, color=gray> the </font><font size = 1, color=gray> valuable </font><font size = 1, color=gray> cargo </font><font size = 1, color=gray> & </font><font size = 1, color=blue> land(0.09) </font><font size = 1, color=black> on </font><font size = 1, color=gray> a </font><font size = 1, color=gray> disused </font><font size = 1, color=black> plane </font><font size = 1, color=red> strip(-0.11) </font><font size = 1, color=black> on </font><font size = 1, color=blue> an(0.05) </font><font size = 1, color=gray> isolated </font><font size = 2, color=red> island(-0.38) </font><font size = 1, color=gray> but </font><font size = 1, color=blue> while(0.14) </font><font size = 2, color=red> making(-0.28) </font><font size = 1, color=black> his </font><font size = 1, color=gray> descent </font><font size = 1, color=gray> Chambers </font><font size = 1, color=blue> almost(0.00) </font><font size = 1, color=blue> hits(0.11) </font><font size = 1, color=black> an </font><font size = 1, color=blue> oil(0.20) </font><font size = 1, color=gray> rig </font><font size = 1, color=gray> in </font><font size = 1, color=gray> the </font><font size = 1, color=gray> Ocean </font><font size = 1, color=gray> & </font><font size = 1, color=blue> loses(0.15) </font><font size = 1, color=red> control(-0.00) </font><font size = 1, color=gray> of </font><font size = 1, color=gray> the </font><font size = 1, color=black> plane </font><font size = 1, color=gray> sending </font><font size = 1, color=gray> it </font><font size = 1, color=gray> crashing </font><font size = 1, color=red> into(-0.01) </font><font size = 1, color=gray> the </font><font size = 1, color=red> sea(-0.16) </font><font size = 1, color=red> where(-0.03) </font><font size = 1, color=gray> it </font><font size = 1, color=gray> sinks </font><font size = 1, color=gray> to </font><font size = 1, color=gray> the </font><font size = 4, color=red> bottom(-0.79) </font><font size = 1, color=blue> right(0.04) </font><font size = 1, color=gray> bang </font><font size = 1, color=gray> in </font><font size = 1, color=gray> the </font><font size = 1, color=red> middle(-0.12) </font><font size = 1, color=gray> of </font><font size = 1, color=gray> the </font><font size = 1, color=gray> Bermuda </font><font size = 1, color=gray> Triangle. </font><font size = 1, color=black> With </font><font size = 1, color=blue> air(0.02) </font><font size = 1, color=gray> in </font><font size = 1, color=blue> short(0.08) </font><font size = 1, color=gray> supply, </font><font size = 1, color=blue> water(0.03) </font><font size = 1, color=gray> leaking </font><font size = 1, color=gray> in </font><font size = 1, color=gray> & </font><font size = 1, color=red> having(-0.02) </font><font size = 1, color=gray> flown </font><font size = 1, color=red> over(-0.08) </font><font size = 1, color=gray> 200 </font><font size = 1, color=blue> miles(0.03) </font><font size = 1, color=black> off </font><font size = 1, color=blue> course(0.21) </font><font size = 1, color=gray> the </font><font size = 1, color=blue> problems(0.07) </font><font size = 1, color=gray> mount </font><font size = 1, color=gray> for </font><font size = 1, color=gray> the </font><font size = 1, color=gray> survivor's </font><font size = 1, color=black> as </font><font size = 1, color=black> they </font><font size = 1, color=gray> await </font><font size = 1, color=blue> help(0.07) </font><font size = 1, color=black> with </font><font size = 1, color=blue> time(0.00) </font><font size = 1, color=red> fast(-0.18) </font><font size = 2, color=red> running(-0.34) </font><font size = 1, color=black> out...<br </font><font size = 1, color=red> /><br(-0.05) </font><font size = 1, color=black> />Also </font><font size = 2, color=blue> known(0.28) </font><font size = 1, color=blue> under(0.06) </font><font size = 1, color=gray> the </font><font size = 1, color=blue> slightly(0.16) </font><font size = 3, color=blue> different(0.53) </font><font size = 1, color=gray> tile </font><font size = 1, color=gray> Airport </font><font size = 1, color=gray> 1977 </font><font size = 1, color=gray> this </font><font size = 1, color=blue> second(0.03) </font><font size = 3, color=red> sequel(-0.44) </font><font size = 1, color=gray> to </font><font size = 1, color=gray> the </font><font size = 1, color=gray> smash-hit </font><font size = 4, color=red> disaster(-0.85) </font><font size = 2, color=blue> thriller(0.26) </font><font size = 1, color=gray> Airport </font><font size = 1, color=gray> (1970) </font><font size = 1, color=red> was(-0.11) </font><font size = 1, color=blue> directed(0.12) </font><font size = 1, color=black> by </font><font size = 2, color=blue> Jerry(0.33) </font><font size = 1, color=gray> Jameson </font><font size = 1, color=gray> & </font><font size = 1, color=black> while </font><font size = 1, color=blue> once(0.21) </font><font size = 1, color=blue> again(0.11) </font><font size = 1, color=red> like(-0.15) </font><font size = 1, color=red> it's(-0.03) </font><font size = 1, color=gray> predecessors </font><font size = 1, color=gray> I </font><font size = 2, color=red> can't(-0.36) </font><font size = 2, color=red> say(-0.22) </font><font size = 1, color=gray> Airport </font><font size = 1, color=gray> '77 </font><font size = 1, color=gray> is </font><font size = 2, color=red> any(-0.37) </font><font size = 2, color=red> sort(-0.27) </font><font size = 1, color=gray> of </font><font size = 1, color=blue> forgotten(0.11) </font><font size = 3, color=blue> classic(0.58) </font><font size = 1, color=gray> it </font><font size = 1, color=gray> is </font><font size = 2, color=blue> entertaining(0.36) </font><font size = 2, color=blue> although(0.33) </font><font size = 1, color=red> not(-0.11) </font><font size = 1, color=blue> necessarily(0.14) </font><font size = 1, color=gray> for </font><font size = 1, color=gray> the </font><font size = 1, color=black> right </font><font size = 1, color=blue> reasons.(0.03) </font><font size = 1, color=black> Out </font><font size = 1, color=gray> of </font><font size = 1, color=gray> the </font><font size = 1, color=blue> three(0.06) </font><font size = 1, color=gray> Airport </font><font size = 1, color=blue> films(0.18) </font><font size = 1, color=gray> I </font><font size = 1, color=red> have(-0.12) </font><font size = 1, color=blue> seen(0.03) </font><font size = 1, color=red> so(-0.17) </font><font size = 1, color=red> far(-0.15) </font><font size = 1, color=gray> I </font><font size = 2, color=red> actually(-0.31) </font><font size = 2, color=blue> liked(0.39) </font><font size = 1, color=gray> this </font><font size = 1, color=blue> one(0.01) </font><font size = 1, color=gray> the </font><font size = 3, color=blue> best,(0.60) </font><font size = 2, color=red> just.(-0.25) </font><font size = 1, color=gray> It </font><font size = 1, color=blue> has(0.11) </font><font size = 1, color=blue> my(0.03) </font><font size = 6, color=blue> favourite(1.10) </font><font size = 3, color=red> plot(-0.53) </font><font size = 1, color=gray> of </font><font size = 1, color=gray> the </font><font size = 1, color=black> three </font><font size = 1, color=black> with </font><font size = 1, color=gray> a </font><font size = 1, color=blue> nice(0.20) </font><font size = 1, color=black> mid-air </font><font size = 1, color=gray> hi-jacking </font><font size = 1, color=gray> & </font><font size = 2, color=red> then(-0.26) </font><font size = 1, color=gray> the </font><font size = 1, color=gray> crashing </font><font size = 2, color=red> (didn't(-0.42) </font><font size = 1, color=blue> he(0.09) </font><font size = 1, color=blue> see(0.07) </font><font size = 1, color=gray> the </font><font size = 1, color=black> oil </font><font size = 1, color=gray> rig?) </font><font size = 1, color=gray> & </font><font size = 1, color=gray> sinking </font><font size = 1, color=gray> of </font><font size = 1, color=gray> the </font><font size = 1, color=gray> 747 </font><font size = 2, color=red> (maybe(-0.36) </font><font size = 1, color=gray> the </font><font size = 4, color=red> makers(-0.71) </font><font size = 1, color=red> were(-0.21) </font><font size = 2, color=red> trying(-0.42) </font><font size = 1, color=gray> to </font><font size = 1, color=blue> cross(0.09) </font><font size = 1, color=gray> the </font><font size = 1, color=red> original(-0.20) </font><font size = 1, color=gray> Airport </font><font size = 1, color=black> with </font><font size = 1, color=red> another(-0.09) </font><font size = 3, color=blue> popular(0.46) </font><font size = 1, color=black> disaster </font><font size = 3, color=red> flick(-0.54) </font><font size = 1, color=gray> of </font><font size = 1, color=gray> the </font><font size = 2, color=blue> period(0.34) </font><font size = 1, color=gray> The </font><font size = 1, color=gray> Poseidon </font><font size = 5, color=blue> Adventure(0.88) </font><font size = 1, color=gray> (1972)) </font><font size = 1, color=gray> & </font><font size = 1, color=gray> submerged </font><font size = 1, color=gray> is </font><font size = 1, color=black> where </font><font size = 1, color=gray> it </font><font size = 4, color=blue> stays(0.72) </font><font size = 1, color=blue> until(0.13) </font><font size = 1, color=gray> the </font><font size = 1, color=red> end(-0.07) </font><font size = 1, color=black> with </font><font size = 1, color=gray> a </font><font size = 1, color=gray> stark </font><font size = 1, color=gray> dilemma </font><font size = 1, color=gray> facing </font><font size = 1, color=blue> those(0.10) </font><font size = 1, color=blue> trapped(0.08) </font><font size = 1, color=blue> inside,(0.16) </font><font size = 3, color=red> either(-0.51) </font><font size = 1, color=gray> suffocate </font><font size = 1, color=blue> when(0.06) </font><font size = 1, color=gray> the </font><font size = 1, color=black> air </font><font size = 1, color=blue> runs(0.03) </font><font size = 1, color=black> out </font><font size = 2, color=red> or(-0.22) </font><font size = 1, color=gray> drown </font><font size = 1, color=black> as </font><font size = 1, color=gray> the </font><font size = 1, color=gray> 747 </font><font size = 1, color=gray> floods </font><font size = 1, color=black> or </font><font size = 1, color=red> if(-0.19) </font><font size = 1, color=black> any </font><font size = 1, color=gray> of </font><font size = 1, color=gray> the </font><font size = 1, color=blue> doors(0.11) </font><font size = 1, color=blue> are(0.03) </font><font size = 1, color=black> opened </font><font size = 1, color=gray> & </font><font size = 1, color=black> it's </font><font size = 1, color=gray> a </font><font size = 5, color=red> decent(-0.89) </font><font size = 3, color=red> idea(-0.55) </font><font size = 1, color=gray> that </font><font size = 2, color=red> could(-0.33) </font><font size = 1, color=black> have </font><font size = 1, color=red> made(-0.15) </font><font size = 1, color=gray> for </font><font size = 1, color=gray> a </font><font size = 4, color=blue> great(0.70) </font><font size = 1, color=blue> little(0.06) </font><font size = 1, color=black> disaster </font><font size = 1, color=black> flick </font><font size = 1, color=gray> but </font><font size = 6, color=red> bad(-1.08) </font><font size = 1, color=gray> unsympathetic </font><font size = 2, color=red> character's,(-0.25) </font><font size = 8, color=red> dull(-1.51) </font><font size = 3, color=red> dialogue,(-0.43) </font><font size = 1, color=gray> lethargic </font><font size = 1, color=blue> set-pieces(0.10) </font><font size = 1, color=gray> & </font><font size = 1, color=gray> a </font><font size = 1, color=blue> real(0.12) </font><font size = 3, color=red> lack(-0.62) </font><font size = 1, color=gray> of </font><font size = 1, color=red> danger(-0.01) </font><font size = 1, color=black> or </font><font size = 1, color=blue> suspense(0.02) </font><font size = 1, color=black> or </font><font size = 1, color=red> tension(-0.03) </font><font size = 1, color=blue> means(0.01) </font><font size = 1, color=gray> this </font><font size = 1, color=gray> is </font><font size = 1, color=gray> a </font><font size = 1, color=blue> missed(0.13) </font><font size = 1, color=blue> opportunity.(0.04) </font><font size = 1, color=black> While </font><font size = 1, color=gray> the </font><font size = 1, color=red> rather(-0.06) </font><font size = 1, color=gray> sluggish </font><font size = 1, color=black> plot </font><font size = 2, color=blue> keeps(0.41) </font><font size = 1, color=black> one </font><font size = 1, color=red> entertained(-0.15) </font><font size = 1, color=gray> for </font><font size = 1, color=gray> 108 </font><font size = 1, color=blue> odd(0.06) </font><font size = 5, color=red> minutes(-0.88) </font><font size = 1, color=black> not </font><font size = 1, color=gray> that </font><font size = 1, color=red> much(-0.11) </font><font size = 2, color=red> happens(-0.32) </font><font size = 1, color=red> after(-0.04) </font><font size = 1, color=gray> the </font><font size = 1, color=black> plane </font><font size = 1, color=gray> sinks </font><font size = 1, color=gray> & </font><font size = 2, color=red> there's(-0.39) </font><font size = 1, color=black> not </font><font size = 1, color=black> as </font><font size = 1, color=black> much </font><font size = 1, color=gray> urgency </font><font size = 1, color=black> as </font><font size = 1, color=gray> I </font><font size = 1, color=red> thought(-0.11) </font><font size = 1, color=red> there(-0.19) </font><font size = 2, color=red> should(-0.27) </font><font size = 1, color=black> have </font><font size = 1, color=red> been.(-0.20) </font><font size = 2, color=red> Even(-0.35) </font><font size = 1, color=black> when </font><font size = 1, color=gray> the </font><font size = 3, color=blue> Navy(0.62) </font><font size = 2, color=blue> become(0.35) </font><font size = 1, color=red> involved(-0.10) </font><font size = 1, color=blue> things(0.02) </font><font size = 2, color=red> don't(-0.39) </font><font size = 1, color=red> pick(-0.08) </font><font size = 1, color=black> up </font><font size = 1, color=gray> that </font><font size = 1, color=black> much </font><font size = 1, color=black> with </font><font size = 1, color=gray> a </font><font size = 1, color=red> few(-0.08) </font><font size = 2, color=red> shots(-0.38) </font><font size = 1, color=gray> of </font><font size = 1, color=red> huge(-0.17) </font><font size = 1, color=gray> ships </font><font size = 1, color=gray> & </font><font size = 1, color=gray> helicopters </font><font size = 1, color=black> flying </font><font size = 1, color=red> about(-0.08) </font><font size = 1, color=gray> but </font><font size = 1, color=black> there's </font><font size = 1, color=black> just </font><font size = 2, color=red> something(-0.31) </font><font size = 4, color=red> lacking(-0.65) </font><font size = 1, color=red> here.(-0.10) </font><font size = 2, color=blue> George(0.26) </font><font size = 1, color=gray> Kennedy </font><font size = 1, color=black> as </font><font size = 1, color=gray> the </font><font size = 1, color=gray> jinxed </font><font size = 1, color=gray> airline </font><font size = 1, color=blue> worker(0.12) </font><font size = 2, color=blue> Joe(0.36) </font><font size = 1, color=gray> Patroni </font><font size = 1, color=gray> is </font><font size = 1, color=blue> back(0.03) </font><font size = 1, color=gray> but </font><font size = 2, color=red> only(-0.23) </font><font size = 1, color=red> gets(-0.07) </font><font size = 1, color=gray> a </font><font size = 1, color=red> couple(-0.11) </font><font size = 1, color=gray> of </font><font size = 1, color=red> scenes(-0.12) </font><font size = 1, color=gray> & </font><font size = 4, color=red> barely(-0.78) </font><font size = 1, color=black> even </font><font size = 1, color=red> says(-0.12) </font><font size = 3, color=red> anything(-0.52) </font><font size = 1, color=gray> preferring </font><font size = 1, color=gray> to </font><font size = 1, color=black> just </font><font size = 1, color=red> look(-0.15) </font><font size = 2, color=blue> worried(0.32) </font><font size = 1, color=gray> in </font><font size = 1, color=gray> the </font><font size = 1, color=blue> background.<br(0.14) </font><font size = 1, color=black> /><br </font><font size = 1, color=gray> />The </font><font size = 1, color=blue> home(0.16) </font><font size = 2, color=red> video(-0.39) </font><font size = 1, color=gray> & </font><font size = 3, color=blue> theatrical(0.44) </font><font size = 1, color=blue> version(0.04) </font><font size = 1, color=gray> of </font><font size = 1, color=gray> Airport </font><font size = 1, color=gray> '77 </font><font size = 1, color=red> run(-0.18) </font><font size = 1, color=gray> 108 </font><font size = 1, color=black> minutes </font><font size = 1, color=black> while </font><font size = 1, color=gray> the </font><font size = 1, color=blue> US(0.20) </font><font size = 1, color=red> TV(-0.05) </font><font size = 3, color=blue> versions(0.52) </font><font size = 1, color=red> add(-0.19) </font><font size = 1, color=black> an </font><font size = 1, color=blue> extra(0.14) </font><font size = 4, color=red> hour(-0.65) </font><font size = 1, color=gray> of </font><font size = 2, color=red> footage(-0.27) </font><font size = 2, color=blue> including(0.37) </font><font size = 1, color=gray> a </font><font size = 1, color=black> new </font><font size = 1, color=red> opening(-0.07) </font><font size = 2, color=red> credits(-0.34) </font><font size = 1, color=blue> sequence,(0.11) </font><font size = 2, color=blue> many(0.22) </font><font size = 1, color=blue> more(0.06) </font><font size = 1, color=black> scenes </font><font size = 1, color=black> with </font><font size = 1, color=black> George </font><font size = 1, color=gray> Kennedy </font><font size = 1, color=black> as </font><font size = 1, color=gray> Patroni, </font><font size = 2, color=red> flashbacks(-0.27) </font><font size = 1, color=gray> to </font><font size = 3, color=red> flesh(-0.54) </font><font size = 1, color=black> out </font><font size = 1, color=black> character's, </font><font size = 1, color=red> longer(-0.02) </font><font size = 1, color=red> rescue(-0.16) </font><font size = 1, color=black> scenes </font><font size = 1, color=gray> & </font><font size = 1, color=gray> the </font><font size = 3, color=blue> discovery(0.44) </font><font size = 1, color=black> or </font><font size = 1, color=black> another </font><font size = 1, color=black> couple </font><font size = 1, color=gray> of </font><font size = 2, color=red> dead(-0.28) </font><font size = 2, color=red> bodies(-0.26) </font><font size = 1, color=black> including </font><font size = 1, color=gray> the </font><font size = 1, color=gray> navigator. </font><font size = 1, color=black> While </font><font size = 1, color=gray> I </font><font size = 1, color=red> would(-0.20) </font><font size = 1, color=black> like </font><font size = 1, color=gray> to </font><font size = 1, color=black> see </font><font size = 1, color=gray> this </font><font size = 1, color=black> extra </font><font size = 1, color=black> footage </font><font size = 1, color=gray> I </font><font size = 1, color=red> am(-0.14) </font><font size = 1, color=black> not </font><font size = 1, color=red> sure(-0.14) </font><font size = 1, color=gray> I </font><font size = 1, color=black> could </font><font size = 3, color=red> sit(-0.54) </font><font size = 1, color=red> through(-0.10) </font><font size = 1, color=gray> a </font><font size = 1, color=red> near(-0.04) </font><font size = 1, color=black> three </font><font size = 1, color=black> hour </font><font size = 3, color=red> cut(-0.51) </font><font size = 1, color=gray> of </font><font size = 1, color=gray> Airport </font><font size = 1, color=gray> '77. </font><font size = 1, color=black> As </font><font size = 2, color=red> expected(-0.23) </font><font size = 1, color=gray> the </font><font size = 1, color=blue> film(0.04) </font><font size = 1, color=black> has </font><font size = 3, color=blue> dated(0.51) </font><font size = 8, color=red> badly(-1.66) </font><font size = 1, color=black> with </font><font size = 8, color=red> horrible(-1.71) </font><font size = 1, color=gray> fashions </font><font size = 1, color=gray> & </font><font size = 1, color=gray> interior </font><font size = 1, color=blue> design(0.08) </font><font size = 2, color=blue> choices,(0.34) </font><font size = 1, color=gray> I </font><font size = 2, color=blue> will(0.23) </font><font size = 1, color=black> say </font><font size = 3, color=red> no(-0.44) </font><font size = 1, color=black> more </font><font size = 1, color=blue> other(0.07) </font><font size = 1, color=red> than(-0.10) </font><font size = 1, color=gray> the </font><font size = 2, color=red> toy(-0.26) </font><font size = 1, color=black> plane </font><font size = 1, color=blue> model(0.01) </font><font size = 2, color=red> effects(-0.41) </font><font size = 3, color=red> aren't(-0.44) </font><font size = 1, color=black> great </font><font size = 1, color=black> either. </font><font size = 1, color=blue> Along(0.20) </font><font size = 1, color=black> with </font><font size = 1, color=gray> the </font><font size = 1, color=black> other </font><font size = 1, color=black> two </font><font size = 1, color=gray> Airport </font><font size = 3, color=red> sequels(-0.58) </font><font size = 1, color=gray> this </font><font size = 1, color=black> takes </font><font size = 3, color=blue> pride(0.45) </font><font size = 1, color=gray> of </font><font size = 1, color=blue> place(0.09) </font><font size = 1, color=gray> in </font><font size = 1, color=gray> the </font><font size = 1, color=gray> Razzie </font><font size = 1, color=gray> Award's </font><font size = 3, color=blue> Hall(0.44) </font><font size = 1, color=gray> of </font><font size = 2, color=red> Shame(-0.33) </font><font size = 1, color=black> although </font><font size = 1, color=gray> I </font><font size = 1, color=red> can(-0.01) </font><font size = 1, color=red> think(-0.05) </font><font size = 1, color=gray> of </font><font size = 1, color=blue> lots(0.01) </font><font size = 1, color=gray> of </font><font size = 8, color=red> worse(-1.62) </font><font size = 1, color=black> films </font><font size = 1, color=black> than </font><font size = 1, color=gray> this </font><font size = 1, color=black> so </font><font size = 1, color=gray> I </font><font size = 1, color=gray> reckon </font><font size = 2, color=red> that's(-0.36) </font><font size = 1, color=gray> a </font><font size = 1, color=black> little </font><font size = 2, color=blue> harsh.(0.30) </font><font size = 1, color=gray> The </font><font size = 1, color=blue> action(0.10) </font><font size = 1, color=black> scenes </font><font size = 1, color=black> are </font><font size = 1, color=gray> a </font><font size = 1, color=black> little </font><font size = 1, color=black> dull </font><font size = 4, color=red> unfortunately,(-0.77) </font><font size = 1, color=gray> the </font><font size = 3, color=blue> pace(0.44) </font><font size = 1, color=gray> is </font><font size = 2, color=red> slow(-0.25) </font><font size = 1, color=gray> & </font><font size = 1, color=black> not </font><font size = 1, color=black> much </font><font size = 1, color=red> excitement(-0.07) </font><font size = 1, color=black> or </font><font size = 1, color=black> tension </font><font size = 1, color=gray> is </font><font size = 1, color=gray> generated </font><font size = 1, color=blue> which(0.01) </font><font size = 1, color=gray> is </font><font size = 1, color=gray> a </font><font size = 1, color=black> shame </font><font size = 1, color=black> as </font><font size = 1, color=gray> I </font><font size = 1, color=gray> reckon </font><font size = 1, color=gray> this </font><font size = 1, color=black> could </font><font size = 1, color=black> have </font><font size = 1, color=black> been </font><font size = 1, color=gray> a </font><font size = 2, color=red> pretty(-0.31) </font><font size = 1, color=red> good(-0.02) </font><font size = 1, color=black> film </font><font size = 1, color=black> if </font><font size = 1, color=black> made </font><font size = 2, color=red> properly.<br(-0.27) </font><font size = 1, color=black> /><br </font><font size = 1, color=gray> />The </font><font size = 2, color=red> production(-0.26) </font><font size = 1, color=red> values(-0.03) </font><font size = 1, color=black> are </font><font size = 6, color=red> alright(-1.17) </font><font size = 1, color=black> if </font><font size = 4, color=red> nothing(-0.76) </font><font size = 5, color=blue> spectacular.(1.01) </font><font size = 1, color=gray> The </font><font size = 3, color=red> acting(-0.48) </font><font size = 2, color=red> isn't(-0.29) </font><font size = 1, color=black> great, </font><font size = 1, color=black> two </font><font size = 1, color=black> time </font><font size = 4, color=blue> Oscar(0.85) </font><font size = 4, color=blue> winner(0.81) </font><font size = 3, color=blue> Jack(0.57) </font><font size = 1, color=gray> Lemmon </font><font size = 1, color=black> has </font><font size = 2, color=red> said(-0.22) </font><font size = 1, color=blue> since(0.08) </font><font size = 1, color=gray> it </font><font size = 1, color=black> was </font><font size = 1, color=gray> a </font><font size = 3, color=red> mistake(-0.59) </font><font size = 1, color=gray> to </font><font size = 1, color=blue> star(0.07) </font><font size = 1, color=gray> in </font><font size = 1, color=gray> this, </font><font size = 1, color=black> one </font><font size = 1, color=black> time </font><font size = 1, color=black> Oscar </font><font size = 1, color=black> winner </font><font size = 1, color=black> James </font><font size = 1, color=black> Stewart </font><font size = 3, color=red> looks(-0.52) </font><font size = 1, color=blue> old(0.02) </font><font size = 1, color=gray> & </font><font size = 1, color=gray> frail, </font><font size = 1, color=black> also </font><font size = 1, color=black> one </font><font size = 1, color=black> time </font><font size = 1, color=black> Oscar </font><font size = 1, color=black> winner </font><font size = 1, color=red> Lee(-0.01) </font><font size = 3, color=blue> Grant(0.43) </font><font size = 1, color=black> looks </font><font size = 2, color=red> drunk(-0.29) </font><font size = 1, color=black> while </font><font size = 4, color=blue> Sir(0.67) </font><font size = 1, color=blue> Christopher(0.16) </font><font size = 1, color=black> Lee </font><font size = 1, color=gray> is </font><font size = 1, color=red> given(-0.13) </font><font size = 1, color=black> little </font><font size = 1, color=gray> to </font><font size = 2, color=red> do(-0.24) </font><font size = 1, color=gray> & </font><font size = 1, color=black> there </font><font size = 1, color=black> are </font><font size = 2, color=blue> plenty(0.35) </font><font size = 1, color=gray> of </font><font size = 1, color=black> other </font><font size = 3, color=blue> familiar(0.47) </font><font size = 1, color=blue> faces(0.08) </font><font size = 1, color=gray> to </font><font size = 1, color=black> look </font><font size = 1, color=black> out </font><font size = 1, color=gray> for </font><font size = 1, color=red> too.<br(-0.09) </font><font size = 1, color=black> /><br </font><font size = 1, color=gray> />Airport </font><font size = 1, color=gray> '77 </font><font size = 1, color=gray> is </font><font size = 1, color=gray> the </font><font size = 1, color=blue> most(0.16) </font><font size = 1, color=black> disaster </font><font size = 1, color=gray> orientated </font><font size = 1, color=gray> of </font><font size = 1, color=gray> the </font><font size = 1, color=black> three </font><font size = 1, color=gray> Airport </font><font size = 1, color=black> films </font><font size = 1, color=black> so </font><font size = 1, color=black> far </font><font size = 1, color=gray> & </font><font size = 1, color=gray> I </font><font size = 1, color=black> liked </font><font size = 1, color=gray> the </font><font size = 2, color=red> ideas(-0.27) </font><font size = 1, color=red> behind(-0.01) </font><font size = 1, color=gray> it </font><font size = 1, color=black> even </font><font size = 1, color=black> if </font><font size = 1, color=black> they </font><font size = 1, color=black> were </font><font size = 1, color=gray> a </font><font size = 2, color=blue> bit(0.27) </font><font size = 4, color=red> silly,(-0.71) </font><font size = 1, color=gray> the </font><font size = 1, color=black> production </font><font size = 1, color=gray> & </font><font size = 7, color=red> bland(-1.36) </font><font size = 1, color=red> direction(-0.13) </font><font size = 2, color=red> doesn't(-0.25) </font><font size = 1, color=black> help </font><font size = 1, color=blue> though(0.11) </font><font size = 1, color=gray> & </font><font size = 1, color=gray> a </font><font size = 1, color=black> film </font><font size = 1, color=black> about </font><font size = 1, color=gray> a </font><font size = 1, color=gray> sunken </font><font size = 1, color=black> plane </font><font size = 1, color=black> just </font><font size = 1, color=red> shouldn't(-0.18) </font><font size = 1, color=red> be(-0.11) </font><font size = 1, color=gray> this </font><font size = 7, color=red> boring(-1.38) </font><font size = 1, color=black> or </font><font size = 1, color=gray> lethargic. </font><font size = 1, color=red> Followed(-0.02) </font><font size = 1, color=black> by </font><font size = 1, color=gray> The </font><font size = 1, color=gray> Concorde </font><font size = 1, color=gray> ... </font><font size = 1, color=gray> Airport </font><font size = 1, color=gray> '79 </font><font size = 1, color=gray> (1979). </font>"
      ],
      "text/plain": [
       "<IPython.core.display.HTML object>"
      ]
     },
     "execution_count": 29,
     "metadata": {},
     "output_type": "execute_result"
    }
   ],
   "source": [
    "i=1\n",
    "display.HTML(doc2html(train_corp[i], tw, vect.vocabulary_, tokenizer, size_ranges))"
   ]
  }
 ],
 "metadata": {
  "kernelspec": {
   "display_name": "Python 3",
   "language": "python",
   "name": "python3"
  },
  "language_info": {
   "codemirror_mode": {
    "name": "ipython",
    "version": 3
   },
   "file_extension": ".py",
   "mimetype": "text/x-python",
   "name": "python",
   "nbconvert_exporter": "python",
   "pygments_lexer": "ipython3",
   "version": "3.5.4"
  }
 },
 "nbformat": 4,
 "nbformat_minor": 2
}
