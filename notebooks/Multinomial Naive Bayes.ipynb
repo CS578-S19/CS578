{
 "cells": [
  {
   "cell_type": "markdown",
   "metadata": {},
   "source": [
    "# Multinomial Naive Bayes"
   ]
  },
  {
   "cell_type": "code",
   "execution_count": 1,
   "metadata": {},
   "outputs": [],
   "source": [
    "import numpy as np\n",
    "from sklearn.naive_bayes import BernoulliNB, MultinomialNB"
   ]
  },
  {
   "cell_type": "code",
   "execution_count": 2,
   "metadata": {},
   "outputs": [],
   "source": [
    "X = []\n",
    "y = []\n",
    "\n",
    "\n",
    "X = X + 56*[[0, 0]]\n",
    "y = y + 56*[0]\n",
    "\n",
    "X = X + 81*[[0, 0]]\n",
    "y = y + 81*[1]\n",
    "\n",
    "\n",
    "X = X + 24*[[0, 1]]\n",
    "y = y + 24*[0]\n",
    "\n",
    "X = X + 459*[[0, 1]]\n",
    "y = y + 459*[1]\n",
    "\n",
    "X = X + 224*[[1, 0]]\n",
    "y = y + 224*[0]\n",
    "\n",
    "X = X + 9*[[1, 0]]\n",
    "y = y + 9*[1]\n",
    "\n",
    "X = X + 96*[[1, 1]]\n",
    "y = y + 96*[0]\n",
    "\n",
    "X = X + 51*[[1, 1]]\n",
    "y = y + 51*[1]\n",
    "\n",
    "X = np.asarray(X)\n",
    "y = np.asarray(y)"
   ]
  },
  {
   "cell_type": "code",
   "execution_count": 3,
   "metadata": {},
   "outputs": [
    {
     "name": "stdout",
     "output_type": "stream",
     "text": [
      "Class\n",
      "Y \t Count\n",
      "0 \t 400\n",
      "1 \t 600\n",
      "\n",
      "Feature 0\n",
      "F \t Y \t Count\n",
      "0 \t 0 \t 80\n",
      "0 \t 1 \t 540\n",
      "1 \t 0 \t 320\n",
      "1 \t 1 \t 60\n",
      "\n",
      "Feature 1\n",
      "F \t Y \t Count\n",
      "0 \t 0 \t 280\n",
      "0 \t 1 \t 90\n",
      "1 \t 0 \t 120\n",
      "1 \t 1 \t 510\n"
     ]
    }
   ],
   "source": [
    "nf = X.shape[1]\n",
    "classes = np.unique(y)\n",
    "\n",
    "print(\"Class\")\n",
    "print(\"Y \\t Count\")\n",
    "for yv in classes:\n",
    "    c = np.sum(y == yv)\n",
    "    print(\"%d \\t %d\" %(yv, c))\n",
    "\n",
    "for f in range(nf):\n",
    "    print(\"\\nFeature\", f)\n",
    "    print(\"F \\t Y \\t Count\")\n",
    "    for xv in range(2):\n",
    "        for yv in classes:\n",
    "            c = np.sum(X[y == yv][:, f] == xv)\n",
    "            print(\"%d \\t %d \\t %d\" %(xv, yv, c))\n",
    "\n",
    "\n",
    "\n"
   ]
  },
  {
   "cell_type": "code",
   "execution_count": 4,
   "metadata": {},
   "outputs": [],
   "source": [
    "alpha = 1e-10"
   ]
  },
  {
   "cell_type": "code",
   "execution_count": 5,
   "metadata": {},
   "outputs": [],
   "source": [
    "b_clf = BernoulliNB(alpha=alpha, fit_prior=True)\n",
    "m_clf = MultinomialNB(alpha=alpha, fit_prior=True)"
   ]
  },
  {
   "cell_type": "code",
   "execution_count": 6,
   "metadata": {},
   "outputs": [
    {
     "data": {
      "text/plain": [
       "MultinomialNB(alpha=1e-10, class_prior=None, fit_prior=True)"
      ]
     },
     "execution_count": 6,
     "metadata": {},
     "output_type": "execute_result"
    }
   ],
   "source": [
    "b_clf.fit(X, y)\n",
    "m_clf.fit(X, y)"
   ]
  },
  {
   "cell_type": "code",
   "execution_count": 7,
   "metadata": {},
   "outputs": [
    {
     "name": "stdout",
     "output_type": "stream",
     "text": [
      "[0.4 0.6]\n",
      "\n",
      "[0.4 0.6]\n"
     ]
    }
   ],
   "source": [
    "print(np.exp(b_clf.class_log_prior_))\n",
    "print()\n",
    "print(np.exp(m_clf.class_log_prior_))"
   ]
  },
  {
   "cell_type": "code",
   "execution_count": 8,
   "metadata": {},
   "outputs": [
    {
     "name": "stdout",
     "output_type": "stream",
     "text": [
      "[[320. 120.]\n",
      " [ 60. 510.]]\n",
      "\n",
      "[[320. 120.]\n",
      " [ 60. 510.]]\n"
     ]
    }
   ],
   "source": [
    "print(b_clf.feature_count_)\n",
    "print()\n",
    "print(m_clf.feature_count_)"
   ]
  },
  {
   "cell_type": "code",
   "execution_count": 9,
   "metadata": {},
   "outputs": [
    {
     "name": "stdout",
     "output_type": "stream",
     "text": [
      "[[0.8  0.3 ]\n",
      " [0.1  0.85]]\n",
      "\n",
      "[[0.72727273 0.27272727]\n",
      " [0.10526316 0.89473684]]\n"
     ]
    }
   ],
   "source": [
    "print(np.exp(b_clf.feature_log_prob_))\n",
    "print()\n",
    "print(np.exp(m_clf.feature_log_prob_))"
   ]
  },
  {
   "cell_type": "code",
   "execution_count": 10,
   "metadata": {},
   "outputs": [
    {
     "data": {
      "text/plain": [
       "0.7272727272727273"
      ]
     },
     "execution_count": 10,
     "metadata": {},
     "output_type": "execute_result"
    }
   ],
   "source": [
    "320/(320+120)"
   ]
  },
  {
   "cell_type": "code",
   "execution_count": 11,
   "metadata": {},
   "outputs": [
    {
     "data": {
      "text/plain": [
       "0.10526315789473684"
      ]
     },
     "execution_count": 11,
     "metadata": {},
     "output_type": "execute_result"
    }
   ],
   "source": [
    "60/(60+510)"
   ]
  },
  {
   "cell_type": "code",
   "execution_count": 12,
   "metadata": {},
   "outputs": [
    {
     "data": {
      "text/plain": [
       "0.40875912408759124"
      ]
     },
     "execution_count": 12,
     "metadata": {},
     "output_type": "execute_result"
    }
   ],
   "source": [
    "a = 0.4*0.2*0.7\n",
    "b = 0.6*0.9*0.15\n",
    "a/(a+b)"
   ]
  },
  {
   "cell_type": "code",
   "execution_count": 13,
   "metadata": {},
   "outputs": [
    {
     "name": "stdout",
     "output_type": "stream",
     "text": [
      "[[0.40875912 0.59124088]]\n",
      "\n",
      "[[0.4 0.6]]\n"
     ]
    }
   ],
   "source": [
    "x = np.asarray([[0, 0]])\n",
    "\n",
    "print(b_clf.predict_proba(x))\n",
    "print()\n",
    "print(m_clf.predict_proba(x))"
   ]
  },
  {
   "cell_type": "code",
   "execution_count": 14,
   "metadata": {},
   "outputs": [
    {
     "data": {
      "text/plain": [
       "array([-2.07944154,  1.04145387])"
      ]
     },
     "execution_count": 14,
     "metadata": {},
     "output_type": "execute_result"
    }
   ],
   "source": [
    "tw = b_clf.feature_log_prob_[1] - b_clf.feature_log_prob_[0]\n",
    "tw"
   ]
  },
  {
   "cell_type": "code",
   "execution_count": 15,
   "metadata": {},
   "outputs": [
    {
     "data": {
      "text/plain": [
       "array([ 1.5040774 , -1.54044504])"
      ]
     },
     "execution_count": 15,
     "metadata": {},
     "output_type": "execute_result"
    }
   ],
   "source": [
    "flp = np.log(1-np.exp(b_clf.feature_log_prob_))\n",
    "fw = flp[1] - flp[0]\n",
    "fw"
   ]
  },
  {
   "cell_type": "code",
   "execution_count": 16,
   "metadata": {},
   "outputs": [
    {
     "data": {
      "text/plain": [
       "array([-1.93283807,  1.18805735])"
      ]
     },
     "execution_count": 16,
     "metadata": {},
     "output_type": "execute_result"
    }
   ],
   "source": [
    "mw = m_clf.feature_log_prob_[1] - m_clf.feature_log_prob_[0]\n",
    "mw"
   ]
  },
  {
   "cell_type": "code",
   "execution_count": 17,
   "metadata": {},
   "outputs": [
    {
     "name": "stdout",
     "output_type": "stream",
     "text": [
      "[[0.04968944 0.95031056]]\n",
      "\n",
      "[[0.16888889 0.83111111]]\n"
     ]
    }
   ],
   "source": [
    "x = np.asarray([[0, 1]])\n",
    "\n",
    "print(b_clf.predict_proba(x))\n",
    "print()\n",
    "print(m_clf.predict_proba(x))"
   ]
  },
  {
   "cell_type": "code",
   "execution_count": 18,
   "metadata": {},
   "outputs": [
    {
     "name": "stdout",
     "output_type": "stream",
     "text": [
      "[[0.96137339 0.03862661]]\n",
      "\n",
      "[[0.82162162 0.17837838]]\n"
     ]
    }
   ],
   "source": [
    "x = np.asarray([[1, 0]])\n",
    "\n",
    "print(b_clf.predict_proba(x))\n",
    "print()\n",
    "print(m_clf.predict_proba(x))"
   ]
  },
  {
   "cell_type": "code",
   "execution_count": 19,
   "metadata": {},
   "outputs": [
    {
     "name": "stdout",
     "output_type": "stream",
     "text": [
      "[[0.65306122 0.34693878]]\n",
      "\n",
      "[[0.58402427 0.41597573]]\n"
     ]
    }
   ],
   "source": [
    "x = np.asarray([[1, 1]])\n",
    "\n",
    "print(b_clf.predict_proba(x))\n",
    "print()\n",
    "print(m_clf.predict_proba(x))"
   ]
  },
  {
   "cell_type": "code",
   "execution_count": null,
   "metadata": {},
   "outputs": [],
   "source": []
  }
 ],
 "metadata": {
  "kernelspec": {
   "display_name": "Python 3",
   "language": "python",
   "name": "python3"
  },
  "language_info": {
   "codemirror_mode": {
    "name": "ipython",
    "version": 3
   },
   "file_extension": ".py",
   "mimetype": "text/x-python",
   "name": "python",
   "nbconvert_exporter": "python",
   "pygments_lexer": "ipython3",
   "version": "3.5.4"
  }
 },
 "nbformat": 4,
 "nbformat_minor": 2
}
